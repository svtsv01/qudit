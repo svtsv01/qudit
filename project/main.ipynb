{
 "cells": [
  {
   "cell_type": "code",
   "execution_count": 67,
   "metadata": {},
   "outputs": [],
   "source": [
    "import qudit \n",
    "import cirq\n",
    "import circuit_builder\n",
    "from utils import format_out\n",
    "from qudit import quditXGate, quditZGate"
   ]
  },
  {
   "cell_type": "code",
   "execution_count": 68,
   "metadata": {},
   "outputs": [],
   "source": [
    "d = 4"
   ]
  },
  {
   "cell_type": "code",
   "execution_count": 69,
   "metadata": {},
   "outputs": [
    {
     "name": "stdout",
     "output_type": "stream",
     "text": [
      "qudit_d4 (d=4): ───X(d=4)───\n"
     ]
    }
   ],
   "source": [
    "qudit_circuit = circuit_builder.create_circuit(d,quditXGate)\n",
    "print(qudit_circuit)"
   ]
  },
  {
   "cell_type": "code",
   "execution_count": 70,
   "metadata": {},
   "outputs": [],
   "source": [
    "simulator = cirq.Simulator()\n",
    "result = simulator.simulate(qudit_circuit)"
   ]
  },
  {
   "cell_type": "code",
   "execution_count": 71,
   "metadata": {},
   "outputs": [
    {
     "name": "stdout",
     "output_type": "stream",
     "text": [
      "Final vector for (d=4):\n",
      " [0.+0.j 0.+0.j 0.+0.j 1.+0.j]\n"
     ]
    }
   ],
   "source": [
    "print(\"Final vector for (d={}):\\n\".format(d), (result.final_state_vector))"
   ]
  },
  {
   "cell_type": "code",
   "execution_count": 72,
   "metadata": {},
   "outputs": [
    {
     "name": "stdout",
     "output_type": "stream",
     "text": [
      "Final vector for (d=4):\n",
      " [['0.0' '0.0' '0.0' '1.0']]\n"
     ]
    }
   ],
   "source": [
    "print(\"Final vector for (d={}):\\n\".format(d), format_out(result.final_state_vector)) #applying format out"
   ]
  },
  {
   "cell_type": "code",
   "execution_count": 73,
   "metadata": {},
   "outputs": [
    {
     "name": "stdout",
     "output_type": "stream",
     "text": [
      "Unitary matrix (X) (d=4):\n",
      " [[ 1.0000000e+00+0.0000000e+00j  0.0000000e+00+0.0000000e+00j\n",
      "   0.0000000e+00+0.0000000e+00j  0.0000000e+00+0.0000000e+00j]\n",
      " [ 0.0000000e+00+0.0000000e+00j  6.1232340e-17+1.0000000e+00j\n",
      "   0.0000000e+00+0.0000000e+00j  0.0000000e+00+0.0000000e+00j]\n",
      " [ 0.0000000e+00+0.0000000e+00j  0.0000000e+00+0.0000000e+00j\n",
      "  -1.0000000e+00+1.2246468e-16j  0.0000000e+00+0.0000000e+00j]\n",
      " [ 0.0000000e+00+0.0000000e+00j  0.0000000e+00+0.0000000e+00j\n",
      "   0.0000000e+00+0.0000000e+00j -1.8369702e-16-1.0000000e+00j]]\n"
     ]
    }
   ],
   "source": [
    "x_gate = quditZGate(d)\n",
    "unitary_matrix = x_gate._unitary_()\n",
    "print(\"Unitary matrix (X) (d={}):\\n\".format(d), unitary_matrix)"
   ]
  },
  {
   "cell_type": "code",
   "execution_count": 74,
   "metadata": {},
   "outputs": [
    {
     "name": "stdout",
     "output_type": "stream",
     "text": [
      " Unitary matrix for the Z gate (d=4):\n",
      " [['1.0' '0.0' '0.0' '0.0']\n",
      " ['0.0' '(6.123233995736766e-17+1j)' '0.0' '0.0']\n",
      " ['0.0' '0.0' '-1.0' '0.0']\n",
      " ['0.0' '0.0' '0.0' '(-1.8369701987210297e-16-1j)']]\n"
     ]
    }
   ],
   "source": [
    "formatted_matrix = format_out(unitary_matrix)\n",
    "print(\" Unitary matrix for the Z gate (d={}):\\n\".format(d), formatted_matrix)"
   ]
  }
 ],
 "metadata": {
  "kernelspec": {
   "display_name": "Python 3",
   "language": "python",
   "name": "python3"
  },
  "language_info": {
   "codemirror_mode": {
    "name": "ipython",
    "version": 3
   },
   "file_extension": ".py",
   "mimetype": "text/x-python",
   "name": "python",
   "nbconvert_exporter": "python",
   "pygments_lexer": "ipython3",
   "version": "3.12.1"
  }
 },
 "nbformat": 4,
 "nbformat_minor": 2
}
