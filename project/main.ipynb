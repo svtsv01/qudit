{
 "cells": [
  {
   "cell_type": "code",
   "execution_count": 1,
   "metadata": {},
   "outputs": [],
   "source": [
    "import cirq\n",
    "from circuit_builder import create_circuit\n",
    "from utils import format_out\n",
    "from qudit import quditXGate, quditZGate, quditHGate, quditCNOTGate"
   ]
  },
  {
   "cell_type": "code",
   "execution_count": 8,
   "metadata": {},
   "outputs": [],
   "source": [
    "d =2 # dimensions"
   ]
  },
  {
   "cell_type": "code",
   "execution_count": 9,
   "metadata": {},
   "outputs": [
    {
     "name": "stdout",
     "output_type": "stream",
     "text": [
      "Circuit:\n",
      "qudit1 (d=2): ───H(d=2)───┬───────────\n",
      "                          │\n",
      "qudit2 (d=2): ────────────CNOT(d=2)───\n"
     ]
    }
   ],
   "source": [
    "# Build the circuit\n",
    "circuit= create_circuit(\n",
    "    (d, quditHGate, \"qudit1\"),                     # Apply H to qudit1\n",
    "    (d, quditCNOTGate, [\"qudit1\", \"qudit2\"])      # Apply CNOT with qudit1 as control, qudit2 as target\n",
    ")\n",
    "\n",
    "# Print the circuit with the specified qudit order\n",
    "print(\"Circuit:\")\n",
    "\n",
    "print(circuit)"
   ]
  },
  {
   "cell_type": "code",
   "execution_count": 10,
   "metadata": {},
   "outputs": [],
   "source": [
    "simulator = cirq.Simulator()"
   ]
  },
  {
   "cell_type": "code",
   "execution_count": 13,
   "metadata": {},
   "outputs": [],
   "source": [
    "initial_state = [0] * 4  # For two qutrits (d-dimensional qudits), d^2 basis states\n",
    "initial_state[1] = 1     # Initialize to |0⟩|0⟩"
   ]
  },
  {
   "cell_type": "code",
   "execution_count": 14,
   "metadata": {},
   "outputs": [
    {
     "name": "stdout",
     "output_type": "stream",
     "text": [
      "Final state vector:\n",
      "[['0.0' '0.7' '0.7' '0.0']]\n"
     ]
    }
   ],
   "source": [
    "result = simulator.simulate(circuit, initial_state=initial_state)\n",
    "print(\"Final state vector:\")\n",
    "print(format_out(result.final_state_vector))"
   ]
  },
  {
   "cell_type": "code",
   "execution_count": 8,
   "metadata": {},
   "outputs": [
    {
     "name": "stdout",
     "output_type": "stream",
     "text": [
      "control (d=3): ───CNOT(d=3)───\n",
      "                  │\n",
      "target (d=3): ────┴───────────\n"
     ]
    }
   ],
   "source": [
    "d = 3\n",
    "\n",
    "# Create two qudits of dimension d\n",
    "control_qudit = cirq.NamedQid(\"control\", dimension=d)\n",
    "target_qudit = cirq.NamedQid(\"target\", dimension=d)\n",
    "\n",
    "# Instantiate the qudit CNOT gate\n",
    "cnot_gate = quditCNOTGate(d)\n",
    "unitary_matrix = cnot_gate._unitary_()\n",
    "# Create a circuit and append the gate\n",
    "circuit = cirq.Circuit()\n",
    "circuit.append(cnot_gate(control_qudit, target_qudit))\n",
    "\n",
    "# Print the circuit\n",
    "print(circuit)"
   ]
  },
  {
   "cell_type": "code",
   "execution_count": 9,
   "metadata": {},
   "outputs": [
    {
     "name": "stdout",
     "output_type": "stream",
     "text": [
      " Unitary matrix for the CNOT gate (d=3):\n",
      " [['1.0' '0.0' '0.0' '0.0' '0.0' '0.0' '0.0' '0.0' '0.0']\n",
      " ['0.0' '1.0' '0.0' '0.0' '0.0' '0.0' '0.0' '0.0' '0.0']\n",
      " ['0.0' '0.0' '1.0' '0.0' '0.0' '0.0' '0.0' '0.0' '0.0']\n",
      " ['0.0' '0.0' '0.0' '0.0' '1.0' '0.0' '0.0' '0.0' '0.0']\n",
      " ['0.0' '0.0' '0.0' '0.0' '0.0' '1.0' '0.0' '0.0' '0.0']\n",
      " ['0.0' '0.0' '0.0' '1.0' '0.0' '0.0' '0.0' '0.0' '0.0']\n",
      " ['0.0' '0.0' '0.0' '0.0' '0.0' '0.0' '0.0' '0.0' '1.0']\n",
      " ['0.0' '0.0' '0.0' '0.0' '0.0' '0.0' '1.0' '0.0' '0.0']\n",
      " ['0.0' '0.0' '0.0' '0.0' '0.0' '0.0' '0.0' '1.0' '0.0']]\n"
     ]
    }
   ],
   "source": [
    "#print(\"Unitary matrix (X) (d={}):\\n\".format(d), unitary_matrix)\n",
    "formatted_matrix = format_out(unitary_matrix)\n",
    "print(\" Unitary matrix for the CNOT gate (d={}):\\n\".format(d), formatted_matrix.T)"
   ]
  }
 ],
 "metadata": {
  "kernelspec": {
   "display_name": "Python 3",
   "language": "python",
   "name": "python3"
  },
  "language_info": {
   "codemirror_mode": {
    "name": "ipython",
    "version": 3
   },
   "file_extension": ".py",
   "mimetype": "text/x-python",
   "name": "python",
   "nbconvert_exporter": "python",
   "pygments_lexer": "ipython3",
   "version": "3.12.1"
  }
 },
 "nbformat": 4,
 "nbformat_minor": 2
}
