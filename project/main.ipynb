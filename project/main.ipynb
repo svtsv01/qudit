{
 "cells": [
  {
   "cell_type": "code",
   "execution_count": 2,
   "metadata": {},
   "outputs": [],
   "source": [
    "import cirq\n",
    "import circuit_builder\n",
    "from utils import format_out\n",
    "from qudit import quditXGate, quditZGate, quditHGate"
   ]
  },
  {
   "cell_type": "code",
   "execution_count": 3,
   "metadata": {},
   "outputs": [],
   "source": [
    "d = 4"
   ]
  },
  {
   "cell_type": "code",
   "execution_count": 4,
   "metadata": {},
   "outputs": [
    {
     "name": "stdout",
     "output_type": "stream",
     "text": [
      "qudit_d4 (d=4): ───X(d=4)───\n"
     ]
    }
   ],
   "source": [
    "qudit_circuit = circuit_builder.create_circuit(d,quditXGate)\n",
    "print(qudit_circuit)"
   ]
  },
  {
   "cell_type": "code",
   "execution_count": 12,
   "metadata": {},
   "outputs": [],
   "source": [
    "initial_state = [0, 0, 0, 1] "
   ]
  },
  {
   "cell_type": "code",
   "execution_count": 13,
   "metadata": {},
   "outputs": [],
   "source": [
    "simulator = cirq.Simulator()\n",
    "result = simulator.simulate(qudit_circuit, initial_state=initial_state)"
   ]
  },
  {
   "cell_type": "code",
   "execution_count": 14,
   "metadata": {},
   "outputs": [
    {
     "name": "stdout",
     "output_type": "stream",
     "text": [
      "Final vector for (d=4):\n",
      " [1.+0.j 0.+0.j 0.+0.j 0.+0.j]\n"
     ]
    }
   ],
   "source": [
    "print(\"Final vector for (d={}):\\n\".format(d), (result.final_state_vector))"
   ]
  },
  {
   "cell_type": "code",
   "execution_count": 8,
   "metadata": {},
   "outputs": [
    {
     "name": "stdout",
     "output_type": "stream",
     "text": [
      "Final vector for (d=4):\n",
      " [['0.0' '0.0' '1.0' '0.0']]\n"
     ]
    }
   ],
   "source": [
    "print(\"Final vector for (d={}):\\n\".format(d), format_out(result.final_state_vector)) #applying format out"
   ]
  },
  {
   "cell_type": "code",
   "execution_count": 9,
   "metadata": {},
   "outputs": [
    {
     "name": "stdout",
     "output_type": "stream",
     "text": [
      " Unitary matrix for the X gate (d=4):\n",
      " [['0.0' '1.0' '0.0' '0.0']\n",
      " ['0.0' '0.0' '1.0' '0.0']\n",
      " ['0.0' '0.0' '0.0' '1.0']\n",
      " ['1.0' '0.0' '0.0' '0.0']]\n"
     ]
    }
   ],
   "source": [
    "# X Gate\n",
    "x_gate = quditXGate(d)\n",
    "unitary_matrix = x_gate._unitary_()\n",
    "#print(\"Unitary matrix (X) (d={}):\\n\".format(d), unitary_matrix)\n",
    "formatted_matrix = format_out(unitary_matrix)\n",
    "print(\" Unitary matrix for the X gate (d={}):\\n\".format(d), formatted_matrix.T)"
   ]
  },
  {
   "cell_type": "code",
   "execution_count": 10,
   "metadata": {},
   "outputs": [
    {
     "name": "stdout",
     "output_type": "stream",
     "text": [
      " Unitary matrix for the Z gate (d=4):\n",
      " [['1.0' '0.0' '0.0' '0.0']\n",
      " ['0.0' '(6.123233995736766e-17+1j)' '0.0' '0.0']\n",
      " ['0.0' '0.0' '-1.0' '0.0']\n",
      " ['0.0' '0.0' '0.0' '(-1.8369701987210297e-16-1j)']]\n"
     ]
    }
   ],
   "source": [
    "# Z Gate\n",
    "z_gate = quditZGate(d)\n",
    "unitary_matrix = z_gate._unitary_()\n",
    "#print(\"Unitary matrix (X) (d={}):\\n\".format(d), unitary_matrix)\n",
    "formatted_matrix = format_out(unitary_matrix)\n",
    "print(\" Unitary matrix for the Z gate (d={}):\\n\".format(d), formatted_matrix.T)"
   ]
  },
  {
   "cell_type": "code",
   "execution_count": 11,
   "metadata": {},
   "outputs": [
    {
     "name": "stdout",
     "output_type": "stream",
     "text": [
      " Unitary matrix for the H gate (d=4):\n",
      " [['0.5' '0.5' '0.5' '0.5']\n",
      " ['0.5' '(3.061616997868383e-17+0.5j)' '-0.5'\n",
      "  '(-9.184850993605148e-17-0.5j)']\n",
      " ['0.5' '-0.5' '0.5' '-0.5']\n",
      " ['0.5' '(-9.184850993605148e-17-0.5j)' '-0.5'\n",
      "  '(2.755455298081545e-16+0.5j)']]\n"
     ]
    }
   ],
   "source": [
    "# H Gate\n",
    "H_gate = quditHGate(d)\n",
    "unitary_matrix = H_gate._unitary_()\n",
    "#print(\"Unitary matrix (X) (d={}):\\n\".format(d), unitary_matrix)\n",
    "formatted_matrix = format_out(unitary_matrix)\n",
    "print(\" Unitary matrix for the H gate (d={}):\\n\".format(d), formatted_matrix.T)"
   ]
  }
 ],
 "metadata": {
  "kernelspec": {
   "display_name": "Python 3",
   "language": "python",
   "name": "python3"
  },
  "language_info": {
   "codemirror_mode": {
    "name": "ipython",
    "version": 3
   },
   "file_extension": ".py",
   "mimetype": "text/x-python",
   "name": "python",
   "nbconvert_exporter": "python",
   "pygments_lexer": "ipython3",
   "version": "3.12.1"
  }
 },
 "nbformat": 4,
 "nbformat_minor": 2
}
