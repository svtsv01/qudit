{
 "cells": [
  {
   "cell_type": "code",
   "execution_count": 1,
   "metadata": {},
   "outputs": [],
   "source": [
    "import cirq\n",
    "from circuit_builder import create_circuit\n",
    "from utils import format_out\n",
    "from qudit import quditXGate, quditZGate, quditHGate, quditCNOTGate"
   ]
  },
  {
   "cell_type": "code",
   "execution_count": 2,
   "metadata": {},
   "outputs": [],
   "source": [
    "d = 4 # dimensions"
   ]
  },
  {
   "cell_type": "code",
   "execution_count": 17,
   "metadata": {},
   "outputs": [
    {
     "ename": "ValueError",
     "evalue": "not enough values to unpack (expected 3, got 2)",
     "output_type": "error",
     "traceback": [
      "\u001b[0;31m---------------------------------------------------------------------------\u001b[0m",
      "\u001b[0;31mValueError\u001b[0m                                Traceback (most recent call last)",
      "Cell \u001b[0;32mIn[17], line 2\u001b[0m\n\u001b[1;32m      1\u001b[0m \u001b[38;5;66;03m# Build the circuit\u001b[39;00m\n\u001b[0;32m----> 2\u001b[0m circuit, qudits, qudit_order \u001b[38;5;241m=\u001b[39m create_circuit(\n\u001b[1;32m      3\u001b[0m     (d, quditHGate, \u001b[38;5;124m\"\u001b[39m\u001b[38;5;124mqudit1\u001b[39m\u001b[38;5;124m\"\u001b[39m),                     \u001b[38;5;66;03m# Apply H to qudit1\u001b[39;00m\n\u001b[1;32m      4\u001b[0m     (d, quditCNOTGate, [\u001b[38;5;124m\"\u001b[39m\u001b[38;5;124mqudit1\u001b[39m\u001b[38;5;124m\"\u001b[39m, \u001b[38;5;124m\"\u001b[39m\u001b[38;5;124mqudit2\u001b[39m\u001b[38;5;124m\"\u001b[39m])      \u001b[38;5;66;03m# Apply CNOT with qudit1 as control, qudit2 as target\u001b[39;00m\n\u001b[1;32m      5\u001b[0m )\n\u001b[1;32m      7\u001b[0m \u001b[38;5;66;03m# Specify the desired qudit order (qudit1 first, qudit2 second)\u001b[39;00m\n\u001b[1;32m      8\u001b[0m qudit_order \u001b[38;5;241m=\u001b[39m [qudits[\u001b[38;5;124m\"\u001b[39m\u001b[38;5;124mqudit1\u001b[39m\u001b[38;5;124m\"\u001b[39m], qudits[\u001b[38;5;124m\"\u001b[39m\u001b[38;5;124mqudit2\u001b[39m\u001b[38;5;124m\"\u001b[39m]]\n",
      "\u001b[0;31mValueError\u001b[0m: not enough values to unpack (expected 3, got 2)"
     ]
    }
   ],
   "source": [
    "# Build the circuit\n",
    "circuit, qudits, qudit_order = create_circuit(\n",
    "    (d, quditHGate, \"qudit1\"),                     # Apply H to qudit1\n",
    "    (d, quditCNOTGate, [\"qudit1\", \"qudit2\"])      # Apply CNOT with qudit1 as control, qudit2 as target\n",
    ")\n",
    "\n",
    "# Specify the desired qudit order (qudit1 first, qudit2 second)\n",
    "qudit_order = [qudits[\"qudit1\"], qudits[\"qudit2\"]]\n",
    "\n",
    "# Print the circuit with the specified qudit order\n",
    "print(\"Circuit:\")\n",
    "print(circuit.to_text_diagram(qubit_order=qudit_order))\n",
    "print(circuit)"
   ]
  },
  {
   "cell_type": "code",
   "execution_count": 13,
   "metadata": {},
   "outputs": [],
   "source": [
    "simulator = cirq.Simulator()"
   ]
  },
  {
   "cell_type": "code",
   "execution_count": 14,
   "metadata": {},
   "outputs": [],
   "source": [
    "initial_state = [0] * 9  # For two qutrits (3-dimensional qudits), 3^2 = 9 basis states\n",
    "initial_state[0] = 1     # Initialize to |0⟩|0⟩"
   ]
  },
  {
   "cell_type": "code",
   "execution_count": 15,
   "metadata": {},
   "outputs": [
    {
     "name": "stdout",
     "output_type": "stream",
     "text": [
      "Final state vector:\n",
      "[ 0.        +0.j          0.57735026+0.j          0.        +0.j\n",
      "  0.        +0.j          0.        +0.j         -0.28867513+0.49999997j\n",
      " -0.28867513-0.49999997j  0.        +0.j          0.        +0.j        ]\n"
     ]
    }
   ],
   "source": [
    "result = simulator.simulate(circuit, initial_state=initial_state)\n",
    "print(\"Final state vector:\")\n",
    "print(result.final_state_vector)"
   ]
  },
  {
   "cell_type": "code",
   "execution_count": 8,
   "metadata": {},
   "outputs": [
    {
     "name": "stdout",
     "output_type": "stream",
     "text": [
      "control (d=3): ───CNOT(d=3)───\n",
      "                  │\n",
      "target (d=3): ────┴───────────\n"
     ]
    }
   ],
   "source": [
    "d = 3\n",
    "\n",
    "# Create two qudits of dimension d\n",
    "control_qudit = cirq.NamedQid(\"control\", dimension=d)\n",
    "target_qudit = cirq.NamedQid(\"target\", dimension=d)\n",
    "\n",
    "# Instantiate the qudit CNOT gate\n",
    "cnot_gate = quditCNOTGate(d)\n",
    "unitary_matrix = cnot_gate._unitary_()\n",
    "# Create a circuit and append the gate\n",
    "circuit = cirq.Circuit()\n",
    "circuit.append(cnot_gate(control_qudit, target_qudit))\n",
    "\n",
    "# Print the circuit\n",
    "print(circuit)"
   ]
  },
  {
   "cell_type": "code",
   "execution_count": 9,
   "metadata": {},
   "outputs": [
    {
     "name": "stdout",
     "output_type": "stream",
     "text": [
      " Unitary matrix for the CNOT gate (d=3):\n",
      " [['1.0' '0.0' '0.0' '0.0' '0.0' '0.0' '0.0' '0.0' '0.0']\n",
      " ['0.0' '1.0' '0.0' '0.0' '0.0' '0.0' '0.0' '0.0' '0.0']\n",
      " ['0.0' '0.0' '1.0' '0.0' '0.0' '0.0' '0.0' '0.0' '0.0']\n",
      " ['0.0' '0.0' '0.0' '0.0' '1.0' '0.0' '0.0' '0.0' '0.0']\n",
      " ['0.0' '0.0' '0.0' '0.0' '0.0' '1.0' '0.0' '0.0' '0.0']\n",
      " ['0.0' '0.0' '0.0' '1.0' '0.0' '0.0' '0.0' '0.0' '0.0']\n",
      " ['0.0' '0.0' '0.0' '0.0' '0.0' '0.0' '0.0' '0.0' '1.0']\n",
      " ['0.0' '0.0' '0.0' '0.0' '0.0' '0.0' '1.0' '0.0' '0.0']\n",
      " ['0.0' '0.0' '0.0' '0.0' '0.0' '0.0' '0.0' '1.0' '0.0']]\n"
     ]
    }
   ],
   "source": [
    "#print(\"Unitary matrix (X) (d={}):\\n\".format(d), unitary_matrix)\n",
    "formatted_matrix = format_out(unitary_matrix)\n",
    "print(\" Unitary matrix for the CNOT gate (d={}):\\n\".format(d), formatted_matrix.T)"
   ]
  }
 ],
 "metadata": {
  "kernelspec": {
   "display_name": "Python 3",
   "language": "python",
   "name": "python3"
  },
  "language_info": {
   "codemirror_mode": {
    "name": "ipython",
    "version": 3
   },
   "file_extension": ".py",
   "mimetype": "text/x-python",
   "name": "python",
   "nbconvert_exporter": "python",
   "pygments_lexer": "ipython3",
   "version": "3.12.1"
  }
 },
 "nbformat": 4,
 "nbformat_minor": 2
}
