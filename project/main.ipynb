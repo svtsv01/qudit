{
 "cells": [
  {
   "cell_type": "code",
   "execution_count": 12,
   "metadata": {},
   "outputs": [],
   "source": [
    "import cirq\n",
    "import circuit_builder\n",
    "from utils import format_out\n",
    "from qudit import quditXGate, quditZGate, quditHGate"
   ]
  },
  {
   "cell_type": "code",
   "execution_count": 21,
   "metadata": {},
   "outputs": [],
   "source": [
    "d = 3"
   ]
  },
  {
   "cell_type": "code",
   "execution_count": 22,
   "metadata": {},
   "outputs": [
    {
     "name": "stdout",
     "output_type": "stream",
     "text": [
      "qudit_d3 (d=3): ───X(d=3)───\n"
     ]
    }
   ],
   "source": [
    "qudit_circuit = circuit_builder.create_circuit(d,quditXGate)\n",
    "print(qudit_circuit)"
   ]
  },
  {
   "cell_type": "code",
   "execution_count": 23,
   "metadata": {},
   "outputs": [],
   "source": [
    "initial_state = [0, 1, 0] "
   ]
  },
  {
   "cell_type": "code",
   "execution_count": 24,
   "metadata": {},
   "outputs": [],
   "source": [
    "simulator = cirq.Simulator()\n",
    "result = simulator.simulate(qudit_circuit)"
   ]
  },
  {
   "cell_type": "code",
   "execution_count": 25,
   "metadata": {},
   "outputs": [
    {
     "name": "stdout",
     "output_type": "stream",
     "text": [
      "Final vector for (d=3):\n",
      " [0.+0.j 0.+0.j 1.+0.j]\n"
     ]
    }
   ],
   "source": [
    "print(\"Final vector for (d={}):\\n\".format(d), (result.final_state_vector))"
   ]
  },
  {
   "cell_type": "code",
   "execution_count": 26,
   "metadata": {},
   "outputs": [
    {
     "name": "stdout",
     "output_type": "stream",
     "text": [
      "Final vector for (d=3):\n",
      " [['0.0' '0.0' '1.0']]\n"
     ]
    }
   ],
   "source": [
    "print(\"Final vector for (d={}):\\n\".format(d), format_out(result.final_state_vector)) #applying format out"
   ]
  },
  {
   "cell_type": "code",
   "execution_count": 32,
   "metadata": {},
   "outputs": [
    {
     "name": "stdout",
     "output_type": "stream",
     "text": [
      " Unitary matrix for the Z gate (d=3):\n",
      " [['0.0' '1.0' '0.0']\n",
      " ['0.0' '0.0' '1.0']\n",
      " ['1.0' '0.0' '0.0']]\n"
     ]
    }
   ],
   "source": [
    "# Z Gate\n",
    "x_gate = quditXGate(d)\n",
    "unitary_matrix = x_gate._unitary_()\n",
    "#print(\"Unitary matrix (X) (d={}):\\n\".format(d), unitary_matrix)\n",
    "formatted_matrix = format_out(unitary_matrix)\n",
    "print(\" Unitary matrix for the Z gate (d={}):\\n\".format(d), formatted_matrix)"
   ]
  },
  {
   "cell_type": "code",
   "execution_count": 31,
   "metadata": {},
   "outputs": [
    {
     "name": "stdout",
     "output_type": "stream",
     "text": [
      " Unitary matrix for the Z gate (d=3):\n",
      " [['1.0' '0.0' '0.0']\n",
      " ['0.0' '(-0.4999999999999998+0.8660254037844387j)' '0.0']\n",
      " ['0.0' '0.0' '(-0.5000000000000004-0.8660254037844384j)']]\n"
     ]
    }
   ],
   "source": [
    "# Z Gate\n",
    "z_gate = quditZGate(d)\n",
    "unitary_matrix = z_gate._unitary_()\n",
    "#print(\"Unitary matrix (X) (d={}):\\n\".format(d), unitary_matrix)\n",
    "formatted_matrix = format_out(unitary_matrix)\n",
    "print(\" Unitary matrix for the Z gate (d={}):\\n\".format(d), formatted_matrix)"
   ]
  },
  {
   "cell_type": "code",
   "execution_count": 30,
   "metadata": {},
   "outputs": [
    {
     "name": "stdout",
     "output_type": "stream",
     "text": [
      " Unitary matrix for the H gate (d=3):\n",
      " [['0.6' '0.6' '0.6']\n",
      " ['0.6' '(-0.2886751345948128+0.5000000000000001j)'\n",
      "  '(-0.2886751345948131-0.4999999999999999j)']\n",
      " ['0.6' '(-0.2886751345948131-0.4999999999999999j)'\n",
      "  '(-0.2886751345948125+0.5000000000000002j)']]\n"
     ]
    }
   ],
   "source": [
    "# H Gate\n",
    "H_gate = quditHGate(d)\n",
    "unitary_matrix = H_gate._unitary_()\n",
    "#print(\"Unitary matrix (X) (d={}):\\n\".format(d), unitary_matrix)\n",
    "formatted_matrix = format_out(unitary_matrix)\n",
    "print(\" Unitary matrix for the H gate (d={}):\\n\".format(d), formatted_matrix)"
   ]
  },
  {
   "cell_type": "code",
   "execution_count": null,
   "metadata": {},
   "outputs": [],
   "source": []
  }
 ],
 "metadata": {
  "kernelspec": {
   "display_name": "Python 3",
   "language": "python",
   "name": "python3"
  },
  "language_info": {
   "codemirror_mode": {
    "name": "ipython",
    "version": 3
   },
   "file_extension": ".py",
   "mimetype": "text/x-python",
   "name": "python",
   "nbconvert_exporter": "python",
   "pygments_lexer": "ipython3",
   "version": "3.12.1"
  }
 },
 "nbformat": 4,
 "nbformat_minor": 2
}
