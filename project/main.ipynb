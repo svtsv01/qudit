{
 "cells": [
  {
   "cell_type": "code",
   "execution_count": 3,
   "metadata": {},
   "outputs": [],
   "source": [
    "import cirq\n",
    "from circuit_builder import create_circuit\n",
    "from utils import format_out, printVector, tensor_product\n",
    "from qudit import quditXGate, quditZGate, quditHGate, quditCNOTGate, state_vector"
   ]
  },
  {
   "cell_type": "code",
   "execution_count": 4,
   "metadata": {},
   "outputs": [],
   "source": [
    "d =4 # dimensions"
   ]
  },
  {
   "cell_type": "code",
   "execution_count": 5,
   "metadata": {},
   "outputs": [
    {
     "name": "stdout",
     "output_type": "stream",
     "text": [
      "Circuit:\n",
      "                          ┌──────────────────┐\n",
      "qudit1 (d=2): ───H(d=2)────┬─────────────────────\n",
      "                           │\n",
      "qudit2 (d=3): ───X(d=3)────┼────────┬────────────\n",
      "                           │        │\n",
      "qudit3 (d=2): ─────────────CNOT(d=2)┼────────────\n",
      "                                    │\n",
      "qudit4 (d=3): ──────────────────────CNOT(d=3)────\n",
      "                          └──────────────────┘\n"
     ]
    }
   ],
   "source": [
    "circuit, qudits, qudit_order = create_circuit(\n",
    "    (2, quditHGate, \"qudit1\"),                      # qudit1 with dimension 2\n",
    "    (3, quditXGate, \"qudit2\"),                      # qudit2 with dimension 3\n",
    "    (2, quditCNOTGate, [\"qudit1\", \"qudit3\"]),       # qudit3 with dimension 2\n",
    "    (3, quditCNOTGate, [\"qudit2\", \"qudit4\"])        # qudit4 with dimension 3\n",
    ")\n",
    "\n",
    "print(\"Circuit:\")\n",
    "print(circuit.to_text_diagram(qubit_order=qudit_order))"
   ]
  },
  {
   "cell_type": "code",
   "execution_count": 6,
   "metadata": {},
   "outputs": [],
   "source": [
    "d = 2"
   ]
  },
  {
   "cell_type": "code",
   "execution_count": 12,
   "metadata": {},
   "outputs": [],
   "source": [
    "state_qudit1 = state_vector(d, 1)  # Initializes |0⟩ for qudit1\n",
    "state_qudit2 = state_vector(d, 1)  # Initializes |1⟩ for qudit2\n",
    "\n",
    "initial_state = tensor_product(state_qudit1, state_qudit2)"
   ]
  },
  {
   "cell_type": "code",
   "execution_count": 13,
   "metadata": {},
   "outputs": [
    {
     "name": "stdout",
     "output_type": "stream",
     "text": [
      "Circuit:\n",
      "qudit1 (d=2): ───H(d=2)───┬───────────\n",
      "                          │\n",
      "qudit2 (d=2): ────────────CNOT(d=2)───\n"
     ]
    }
   ],
   "source": [
    "# Build the circuit\n",
    "circuit, qudits, qudit_order = create_circuit(\n",
    "    d,  \n",
    "    (quditHGate, \"qudit1\"),                    # Apply H to qudit1\n",
    "    (quditCNOTGate, [\"qudit1\", \"qudit2\"])      # Apply CNOT with qudit1 as control, qudit2 as target\n",
    ")\n",
    "\n",
    "# Print the circuit with the specified qudit order\n",
    "print(\"Circuit:\")\n",
    "\n",
    "print(circuit)"
   ]
  },
  {
   "cell_type": "code",
   "execution_count": 14,
   "metadata": {},
   "outputs": [],
   "source": [
    "simulator = cirq.Simulator()"
   ]
  },
  {
   "cell_type": "code",
   "execution_count": 17,
   "metadata": {},
   "outputs": [
    {
     "name": "stdout",
     "output_type": "stream",
     "text": [
      "Final state vector:\n",
      "[['0.0' '0.7' '-0.7' '0.0']]\n"
     ]
    }
   ],
   "source": [
    "result = simulator.simulate(circuit, initial_state=initial_state)\n",
    "final_state = result.final_state_vector\n",
    "dimensions = [qudit.dimension for qudit in qudit_order]\n",
    "print(\"Final state vector:\")\n",
    "print(format_out(result.final_state_vector))"
   ]
  },
  {
   "cell_type": "code",
   "execution_count": 18,
   "metadata": {},
   "outputs": [
    {
     "name": "stdout",
     "output_type": "stream",
     "text": [
      "\n",
      "Final state vector:\n",
      "|01⟩: (0.7071067690849304+0j)\n",
      "|10⟩: (-0.7071067690849304+8.659560603426554e-17j)\n"
     ]
    }
   ],
   "source": [
    "printVector(final_state, dimensions, qudits=qudit_order)"
   ]
  },
  {
   "cell_type": "code",
   "execution_count": 45,
   "metadata": {},
   "outputs": [
    {
     "name": "stdout",
     "output_type": "stream",
     "text": [
      "control (d=3): ───┬───────────\n",
      "                  │\n",
      "target (d=3): ────CNOT(d=3)───\n"
     ]
    }
   ],
   "source": [
    "d = 3\n",
    "\n",
    "# Create two qudits of dimension d\n",
    "control_qudit = cirq.NamedQid(\"control\", dimension=d)\n",
    "target_qudit = cirq.NamedQid(\"target\", dimension=d)\n",
    "\n",
    "# Instantiate the qudit CNOT gate\n",
    "cnot_gate = quditCNOTGate(d)\n",
    "unitary_matrix = cnot_gate._unitary_()\n",
    "# Create a circuit and append the gate\n",
    "circuit = cirq.Circuit()\n",
    "circuit.append(cnot_gate(control_qudit, target_qudit))\n",
    "\n",
    "# Print the circuit\n",
    "print(circuit)"
   ]
  },
  {
   "cell_type": "code",
   "execution_count": 46,
   "metadata": {},
   "outputs": [
    {
     "name": "stdout",
     "output_type": "stream",
     "text": [
      " Unitary matrix for the CNOT gate (d=3):\n",
      " [['1.0' '0.0' '0.0' '0.0' '0.0' '0.0' '0.0' '0.0' '0.0']\n",
      " ['0.0' '1.0' '0.0' '0.0' '0.0' '0.0' '0.0' '0.0' '0.0']\n",
      " ['0.0' '0.0' '1.0' '0.0' '0.0' '0.0' '0.0' '0.0' '0.0']\n",
      " ['0.0' '0.0' '0.0' '0.0' '1.0' '0.0' '0.0' '0.0' '0.0']\n",
      " ['0.0' '0.0' '0.0' '0.0' '0.0' '1.0' '0.0' '0.0' '0.0']\n",
      " ['0.0' '0.0' '0.0' '1.0' '0.0' '0.0' '0.0' '0.0' '0.0']\n",
      " ['0.0' '0.0' '0.0' '0.0' '0.0' '0.0' '0.0' '0.0' '1.0']\n",
      " ['0.0' '0.0' '0.0' '0.0' '0.0' '0.0' '1.0' '0.0' '0.0']\n",
      " ['0.0' '0.0' '0.0' '0.0' '0.0' '0.0' '0.0' '1.0' '0.0']]\n"
     ]
    }
   ],
   "source": [
    "#print(\"Unitary matrix (X) (d={}):\\n\".format(d), unitary_matrix)\n",
    "formatted_matrix = format_out(unitary_matrix)\n",
    "print(\" Unitary matrix for the CNOT gate (d={}):\\n\".format(d), formatted_matrix.T)"
   ]
  },
  {
   "cell_type": "code",
   "execution_count": 50,
   "metadata": {},
   "outputs": [
    {
     "name": "stdout",
     "output_type": "stream",
     "text": [
      "Circuit:\n",
      "qudit1 (d=3): ───H(d=3)───┬───────────\n",
      "                          │\n",
      "qudit2 (d=3): ────────────CNOT(d=3)───\n"
     ]
    }
   ],
   "source": []
  },
  {
   "cell_type": "code",
   "execution_count": 52,
   "metadata": {},
   "outputs": [
    {
     "name": "stdout",
     "output_type": "stream",
     "text": [
      "\n",
      "Final state vector:\n",
      "|00⟩: (0.5773502588272095+0j)\n",
      "|11⟩: (0.5773502588272095+0j)\n",
      "|22⟩: (0.5773502588272095+0j)\n"
     ]
    }
   ],
   "source": []
  }
 ],
 "metadata": {
  "kernelspec": {
   "display_name": "Python 3",
   "language": "python",
   "name": "python3"
  },
  "language_info": {
   "codemirror_mode": {
    "name": "ipython",
    "version": 3
   },
   "file_extension": ".py",
   "mimetype": "text/x-python",
   "name": "python",
   "nbconvert_exporter": "python",
   "pygments_lexer": "ipython3",
   "version": "3.12.1"
  }
 },
 "nbformat": 4,
 "nbformat_minor": 2
}
