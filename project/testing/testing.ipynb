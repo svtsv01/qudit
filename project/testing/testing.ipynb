{
 "cells": [
  {
   "cell_type": "code",
   "execution_count": 1,
   "metadata": {},
   "outputs": [],
   "source": [
    "import sys\n",
    "import os\n",
    "\n",
    "sys.path.append(os.path.abspath(\"..\"))  "
   ]
  },
  {
   "cell_type": "code",
   "execution_count": 2,
   "metadata": {},
   "outputs": [],
   "source": [
    "import cirq\n",
    "import random\n",
    "from qudit_cirq.circuit_builder import create_circuit\n",
    "from qudit_cirq.qudit import quditXGate, quditZGate, quditHGate, quditCNOTGate, state_vector, quditMeasurementGate, measure_qudits\n",
    "from qudit_cirq.utils import format_out, printVector, tensor_product"
   ]
  },
  {
   "cell_type": "code",
   "execution_count": 24,
   "metadata": {},
   "outputs": [],
   "source": [
    "#initial testing\n",
    "\n",
    "d = 3\n",
    "qudit0 = 'q0'\n",
    "qudit1 = 'q1'"
   ]
  },
  {
   "cell_type": "code",
   "execution_count": 25,
   "metadata": {},
   "outputs": [],
   "source": [
    "args = [\n",
    "    d,  \n",
    "    (quditHGate, qudit0),\n",
    "    (quditCNOTGate, [qudit0, qudit1]),\n",
    "    (quditZGate, qudit1),\n",
    "    (quditXGate, qudit0),\n",
    "    (quditMeasurementGate, qudit0), \n",
    "    (quditMeasurementGate, qudit1)   \n",
    "]\n",
    "\n",
    "#autimatic measurments for Z- basis\n",
    "\n",
    "# histograms"
   ]
  },
  {
   "cell_type": "code",
   "execution_count": 26,
   "metadata": {},
   "outputs": [],
   "source": [
    "circuit, qudits, qudit_order = create_circuit(*args)"
   ]
  },
  {
   "cell_type": "code",
   "execution_count": 27,
   "metadata": {},
   "outputs": [
    {
     "data": {
      "text/html": [
       "<pre style=\"overflow: auto; white-space: pre;\">q0 (d=3): ───H(d=3)───┬───────────X(d=3)───M(d=3)───\n",
       "                      │\n",
       "q1 (d=3): ────────────CNOT(d=3)───Z(d=3)───M(d=3)───</pre>"
      ],
      "text/plain": [
       "q0 (d=3): ───H(d=3)───┬───────────X(d=3)───M(d=3)───\n",
       "                      │\n",
       "q1 (d=3): ────────────CNOT(d=3)───Z(d=3)───M(d=3)───"
      ]
     },
     "execution_count": 27,
     "metadata": {},
     "output_type": "execute_result"
    }
   ],
   "source": [
    "circuit"
   ]
  },
  {
   "cell_type": "code",
   "execution_count": 31,
   "metadata": {},
   "outputs": [],
   "source": [
    "args = [\n",
    "    (quditHGate, qudit0),\n",
    "    (quditCNOTGate, [qudit0, qudit1]),\n",
    "    (quditZGate, qudit1),\n",
    "    (quditXGate, qudit0)  \n",
    "]"
   ]
  },
  {
   "cell_type": "code",
   "execution_count": 32,
   "metadata": {},
   "outputs": [
    {
     "ename": "ValueError",
     "evalue": "Dimension must be specified before gate tuples without dimension",
     "output_type": "error",
     "traceback": [
      "\u001b[1;31m---------------------------------------------------------------------------\u001b[0m",
      "\u001b[1;31mValueError\u001b[0m                                Traceback (most recent call last)",
      "Cell \u001b[1;32mIn[32], line 1\u001b[0m\n\u001b[1;32m----> 1\u001b[0m circuit, qudits, qudit_order \u001b[38;5;241m=\u001b[39m \u001b[43mcreate_circuit\u001b[49m\u001b[43m(\u001b[49m\u001b[38;5;241;43m*\u001b[39;49m\u001b[43margs\u001b[49m\u001b[43m)\u001b[49m\n",
      "File \u001b[1;32mc:\\Users\\svtsv\\Documents\\GitHub\\qudit\\project\\qudit_cirq\\circuit_builder.py:27\u001b[0m, in \u001b[0;36mcreate_circuit\u001b[1;34m(*args)\u001b[0m\n\u001b[0;32m     24\u001b[0m \u001b[38;5;28;01melif\u001b[39;00m \u001b[38;5;28mlen\u001b[39m(arg) \u001b[38;5;241m==\u001b[39m \u001b[38;5;241m2\u001b[39m:\n\u001b[0;32m     25\u001b[0m     \u001b[38;5;66;03m# Tuple like (gate_type, qudit_names)\u001b[39;00m\n\u001b[0;32m     26\u001b[0m     \u001b[38;5;28;01mif\u001b[39;00m current_dimension \u001b[38;5;129;01mis\u001b[39;00m \u001b[38;5;28;01mNone\u001b[39;00m:\n\u001b[1;32m---> 27\u001b[0m         \u001b[38;5;28;01mraise\u001b[39;00m \u001b[38;5;167;01mValueError\u001b[39;00m(\n\u001b[0;32m     28\u001b[0m             \u001b[38;5;124m\"\u001b[39m\u001b[38;5;124mDimension must be specified before gate tuples without dimension\u001b[39m\u001b[38;5;124m\"\u001b[39m\n\u001b[0;32m     29\u001b[0m         )\n\u001b[0;32m     30\u001b[0m     gate_dimension \u001b[38;5;241m=\u001b[39m current_dimension\n\u001b[0;32m     31\u001b[0m     gate_type, qudit_names \u001b[38;5;241m=\u001b[39m arg\n",
      "\u001b[1;31mValueError\u001b[0m: Dimension must be specified before gate tuples without dimension"
     ]
    }
   ],
   "source": [
    "circuit, qudits, qudit_order = create_circuit(*args)"
   ]
  },
  {
   "cell_type": "code",
   "execution_count": 33,
   "metadata": {},
   "outputs": [
    {
     "data": {
      "text/html": [
       "<pre style=\"overflow: auto; white-space: pre;\">q0 (d=3): ───H(d=3)───┬───────────X(d=3)───M(d=3)───\n",
       "                      │\n",
       "q1 (d=3): ────────────CNOT(d=3)───Z(d=3)───M(d=3)───</pre>"
      ],
      "text/plain": [
       "q0 (d=3): ───H(d=3)───┬───────────X(d=3)───M(d=3)───\n",
       "                      │\n",
       "q1 (d=3): ────────────CNOT(d=3)───Z(d=3)───M(d=3)───"
      ]
     },
     "execution_count": 33,
     "metadata": {},
     "output_type": "execute_result"
    }
   ],
   "source": [
    "circuit"
   ]
  },
  {
   "cell_type": "code",
   "execution_count": 30,
   "metadata": {},
   "outputs": [
    {
     "ename": "TypeError",
     "evalue": "Simulator doesn't support <qudit_cirq.qudit.quditMeasurementGate object at 0x000002340850FB90>.on(cirq.NamedQid('q0', dimension=3))",
     "output_type": "error",
     "traceback": [
      "\u001b[1;31m---------------------------------------------------------------------------\u001b[0m",
      "\u001b[1;31mTypeError\u001b[0m                                 Traceback (most recent call last)",
      "File \u001b[1;32mc:\\Users\\svtsv\\anaconda3\\Lib\\site-packages\\cirq\\sim\\simulator_base.py:220\u001b[0m, in \u001b[0;36mSimulatorBase._core_iterator\u001b[1;34m(self, circuit, sim_state, all_measurements_are_terminal)\u001b[0m\n\u001b[0;32m    219\u001b[0m     \u001b[38;5;66;03m# Simulate the operation\u001b[39;00m\n\u001b[1;32m--> 220\u001b[0m     \u001b[43mprotocols\u001b[49m\u001b[38;5;241;43m.\u001b[39;49m\u001b[43mact_on\u001b[49m\u001b[43m(\u001b[49m\u001b[43mop\u001b[49m\u001b[43m,\u001b[49m\u001b[43m \u001b[49m\u001b[43msim_state\u001b[49m\u001b[43m)\u001b[49m\n\u001b[0;32m    221\u001b[0m \u001b[38;5;28;01mexcept\u001b[39;00m \u001b[38;5;167;01mTypeError\u001b[39;00m:\n",
      "File \u001b[1;32mc:\\Users\\svtsv\\anaconda3\\Lib\\site-packages\\cirq\\protocols\\act_on_protocol.py:153\u001b[0m, in \u001b[0;36mact_on\u001b[1;34m(action, sim_state, qubits, allow_decompose)\u001b[0m\n\u001b[0;32m    152\u001b[0m qubits \u001b[38;5;241m=\u001b[39m action\u001b[38;5;241m.\u001b[39mqubits \u001b[38;5;28;01mif\u001b[39;00m is_op \u001b[38;5;28;01melse\u001b[39;00m qubits\n\u001b[1;32m--> 153\u001b[0m result \u001b[38;5;241m=\u001b[39m \u001b[43marg_fallback\u001b[49m\u001b[43m(\u001b[49m\u001b[43maction\u001b[49m\u001b[43m,\u001b[49m\u001b[43m \u001b[49m\u001b[43mqubits\u001b[49m\u001b[38;5;241;43m=\u001b[39;49m\u001b[43mqubits\u001b[49m\u001b[43m,\u001b[49m\u001b[43m \u001b[49m\u001b[43mallow_decompose\u001b[49m\u001b[38;5;241;43m=\u001b[39;49m\u001b[43mallow_decompose\u001b[49m\u001b[43m)\u001b[49m\n\u001b[0;32m    154\u001b[0m \u001b[38;5;28;01mif\u001b[39;00m result \u001b[38;5;129;01mis\u001b[39;00m \u001b[38;5;28;01mTrue\u001b[39;00m:\n",
      "File \u001b[1;32mc:\\Users\\svtsv\\anaconda3\\Lib\\site-packages\\cirq\\sim\\simulation_product_state.py:123\u001b[0m, in \u001b[0;36mSimulationProductState._act_on_fallback_\u001b[1;34m(self, action, qubits, allow_decompose)\u001b[0m\n\u001b[0;32m    122\u001b[0m act_on_qubits \u001b[38;5;241m=\u001b[39m qubits \u001b[38;5;28;01mif\u001b[39;00m \u001b[38;5;28misinstance\u001b[39m(action, ops\u001b[38;5;241m.\u001b[39mGate) \u001b[38;5;28;01melse\u001b[39;00m \u001b[38;5;28;01mNone\u001b[39;00m\n\u001b[1;32m--> 123\u001b[0m \u001b[43mprotocols\u001b[49m\u001b[38;5;241;43m.\u001b[39;49m\u001b[43mact_on\u001b[49m\u001b[43m(\u001b[49m\u001b[43maction\u001b[49m\u001b[43m,\u001b[49m\u001b[43m \u001b[49m\u001b[43mop_args\u001b[49m\u001b[43m,\u001b[49m\u001b[43m \u001b[49m\u001b[43mact_on_qubits\u001b[49m\u001b[43m,\u001b[49m\u001b[43m \u001b[49m\u001b[43mallow_decompose\u001b[49m\u001b[38;5;241;43m=\u001b[39;49m\u001b[43mallow_decompose\u001b[49m\u001b[43m)\u001b[49m\n\u001b[0;32m    125\u001b[0m \u001b[38;5;66;03m# Decouple any measurements or resets\u001b[39;00m\n",
      "File \u001b[1;32mc:\\Users\\svtsv\\anaconda3\\Lib\\site-packages\\cirq\\protocols\\act_on_protocol.py:153\u001b[0m, in \u001b[0;36mact_on\u001b[1;34m(action, sim_state, qubits, allow_decompose)\u001b[0m\n\u001b[0;32m    152\u001b[0m qubits \u001b[38;5;241m=\u001b[39m action\u001b[38;5;241m.\u001b[39mqubits \u001b[38;5;28;01mif\u001b[39;00m is_op \u001b[38;5;28;01melse\u001b[39;00m qubits\n\u001b[1;32m--> 153\u001b[0m result \u001b[38;5;241m=\u001b[39m \u001b[43marg_fallback\u001b[49m\u001b[43m(\u001b[49m\u001b[43maction\u001b[49m\u001b[43m,\u001b[49m\u001b[43m \u001b[49m\u001b[43mqubits\u001b[49m\u001b[38;5;241;43m=\u001b[39;49m\u001b[43mqubits\u001b[49m\u001b[43m,\u001b[49m\u001b[43m \u001b[49m\u001b[43mallow_decompose\u001b[49m\u001b[38;5;241;43m=\u001b[39;49m\u001b[43mallow_decompose\u001b[49m\u001b[43m)\u001b[49m\n\u001b[0;32m    154\u001b[0m \u001b[38;5;28;01mif\u001b[39;00m result \u001b[38;5;129;01mis\u001b[39;00m \u001b[38;5;28;01mTrue\u001b[39;00m:\n",
      "File \u001b[1;32mc:\\Users\\svtsv\\anaconda3\\Lib\\site-packages\\cirq\\sim\\state_vector_simulation_state.py:394\u001b[0m, in \u001b[0;36mStateVectorSimulationState._act_on_fallback_\u001b[1;34m(self, action, qubits, allow_decompose)\u001b[0m\n\u001b[0;32m    393\u001b[0m     \u001b[38;5;28;01massert\u001b[39;00m result \u001b[38;5;129;01mis\u001b[39;00m \u001b[38;5;28mNotImplemented\u001b[39m, \u001b[38;5;28mstr\u001b[39m(result)\n\u001b[1;32m--> 394\u001b[0m \u001b[38;5;28;01mraise\u001b[39;00m \u001b[38;5;167;01mTypeError\u001b[39;00m(\n\u001b[0;32m    395\u001b[0m     \u001b[38;5;124m\"\u001b[39m\u001b[38;5;124mCan\u001b[39m\u001b[38;5;124m'\u001b[39m\u001b[38;5;124mt simulate operations that don\u001b[39m\u001b[38;5;124m'\u001b[39m\u001b[38;5;124mt implement \u001b[39m\u001b[38;5;124m\"\u001b[39m\n\u001b[0;32m    396\u001b[0m     \u001b[38;5;124m\"\u001b[39m\u001b[38;5;124mSupportsUnitary, SupportsConsistentApplyUnitary, \u001b[39m\u001b[38;5;124m\"\u001b[39m\n\u001b[0;32m    397\u001b[0m     \u001b[38;5;124mf\u001b[39m\u001b[38;5;124m\"\u001b[39m\u001b[38;5;124mSupportsMixture or is a measurement: \u001b[39m\u001b[38;5;132;01m{\u001b[39;00maction\u001b[38;5;132;01m!r}\u001b[39;00m\u001b[38;5;124m\"\u001b[39m\n\u001b[0;32m    398\u001b[0m )\n",
      "\u001b[1;31mTypeError\u001b[0m: Can't simulate operations that don't implement SupportsUnitary, SupportsConsistentApplyUnitary, SupportsMixture or is a measurement: <qudit_cirq.qudit.quditMeasurementGate object at 0x000002340850FB90>.on(cirq.NamedQid('q0', dimension=3))",
      "\nDuring handling of the above exception, another exception occurred:\n",
      "\u001b[1;31mTypeError\u001b[0m                                 Traceback (most recent call last)",
      "Cell \u001b[1;32mIn[30], line 2\u001b[0m\n\u001b[0;32m      1\u001b[0m simulator \u001b[38;5;241m=\u001b[39m cirq\u001b[38;5;241m.\u001b[39mSimulator()\n\u001b[1;32m----> 2\u001b[0m result \u001b[38;5;241m=\u001b[39m \u001b[43msimulator\u001b[49m\u001b[38;5;241;43m.\u001b[39;49m\u001b[43msimulate\u001b[49m\u001b[43m(\u001b[49m\u001b[43mcircuit\u001b[49m\u001b[43m)\u001b[49m\n",
      "File \u001b[1;32mc:\\Users\\svtsv\\anaconda3\\Lib\\site-packages\\cirq\\sim\\simulator.py:496\u001b[0m, in \u001b[0;36mSimulatesFinalState.simulate\u001b[1;34m(self, program, param_resolver, qubit_order, initial_state)\u001b[0m\n\u001b[0;32m    471\u001b[0m \u001b[38;5;28;01mdef\u001b[39;00m \u001b[38;5;21msimulate\u001b[39m(\n\u001b[0;32m    472\u001b[0m     \u001b[38;5;28mself\u001b[39m,\n\u001b[0;32m    473\u001b[0m     program: \u001b[38;5;124m'\u001b[39m\u001b[38;5;124mcirq.AbstractCircuit\u001b[39m\u001b[38;5;124m'\u001b[39m,\n\u001b[1;32m   (...)\u001b[0m\n\u001b[0;32m    476\u001b[0m     initial_state: Any \u001b[38;5;241m=\u001b[39m \u001b[38;5;28;01mNone\u001b[39;00m,\n\u001b[0;32m    477\u001b[0m ) \u001b[38;5;241m-\u001b[39m\u001b[38;5;241m>\u001b[39m TSimulationTrialResult:\n\u001b[0;32m    478\u001b[0m \u001b[38;5;250m    \u001b[39m\u001b[38;5;124;03m\"\"\"Simulates the supplied Circuit.\u001b[39;00m\n\u001b[0;32m    479\u001b[0m \n\u001b[0;32m    480\u001b[0m \u001b[38;5;124;03m    This method returns a result which allows access to the entire\u001b[39;00m\n\u001b[1;32m   (...)\u001b[0m\n\u001b[0;32m    494\u001b[0m \u001b[38;5;124;03m        SimulationTrialResults for the simulation. Includes the final state.\u001b[39;00m\n\u001b[0;32m    495\u001b[0m \u001b[38;5;124;03m    \"\"\"\u001b[39;00m\n\u001b[1;32m--> 496\u001b[0m     \u001b[38;5;28;01mreturn\u001b[39;00m \u001b[38;5;28;43mself\u001b[39;49m\u001b[38;5;241;43m.\u001b[39;49m\u001b[43msimulate_sweep\u001b[49m\u001b[43m(\u001b[49m\n\u001b[0;32m    497\u001b[0m \u001b[43m        \u001b[49m\u001b[43mprogram\u001b[49m\u001b[43m,\u001b[49m\u001b[43m \u001b[49m\u001b[43mstudy\u001b[49m\u001b[38;5;241;43m.\u001b[39;49m\u001b[43mParamResolver\u001b[49m\u001b[43m(\u001b[49m\u001b[43mparam_resolver\u001b[49m\u001b[43m)\u001b[49m\u001b[43m,\u001b[49m\u001b[43m \u001b[49m\u001b[43mqubit_order\u001b[49m\u001b[43m,\u001b[49m\u001b[43m \u001b[49m\u001b[43minitial_state\u001b[49m\n\u001b[0;32m    498\u001b[0m \u001b[43m    \u001b[49m\u001b[43m)\u001b[49m[\u001b[38;5;241m0\u001b[39m]\n",
      "File \u001b[1;32mc:\\Users\\svtsv\\anaconda3\\Lib\\site-packages\\cirq\\sim\\simulator.py:511\u001b[0m, in \u001b[0;36mSimulatesFinalState.simulate_sweep\u001b[1;34m(self, program, params, qubit_order, initial_state)\u001b[0m\n\u001b[0;32m    500\u001b[0m \u001b[38;5;28;01mdef\u001b[39;00m \u001b[38;5;21msimulate_sweep\u001b[39m(\n\u001b[0;32m    501\u001b[0m     \u001b[38;5;28mself\u001b[39m,\n\u001b[0;32m    502\u001b[0m     program: \u001b[38;5;124m'\u001b[39m\u001b[38;5;124mcirq.AbstractCircuit\u001b[39m\u001b[38;5;124m'\u001b[39m,\n\u001b[1;32m   (...)\u001b[0m\n\u001b[0;32m    505\u001b[0m     initial_state: Any \u001b[38;5;241m=\u001b[39m \u001b[38;5;28;01mNone\u001b[39;00m,\n\u001b[0;32m    506\u001b[0m ) \u001b[38;5;241m-\u001b[39m\u001b[38;5;241m>\u001b[39m List[TSimulationTrialResult]:\n\u001b[0;32m    507\u001b[0m \u001b[38;5;250m    \u001b[39m\u001b[38;5;124;03m\"\"\"Wraps computed states in a list.\u001b[39;00m\n\u001b[0;32m    508\u001b[0m \n\u001b[0;32m    509\u001b[0m \u001b[38;5;124;03m    Prefer overriding `simulate_sweep_iter`.\u001b[39;00m\n\u001b[0;32m    510\u001b[0m \u001b[38;5;124;03m    \"\"\"\u001b[39;00m\n\u001b[1;32m--> 511\u001b[0m     \u001b[38;5;28;01mreturn\u001b[39;00m \u001b[38;5;28;43mlist\u001b[39;49m\u001b[43m(\u001b[49m\u001b[38;5;28;43mself\u001b[39;49m\u001b[38;5;241;43m.\u001b[39;49m\u001b[43msimulate_sweep_iter\u001b[49m\u001b[43m(\u001b[49m\u001b[43mprogram\u001b[49m\u001b[43m,\u001b[49m\u001b[43m \u001b[49m\u001b[43mparams\u001b[49m\u001b[43m,\u001b[49m\u001b[43m \u001b[49m\u001b[43mqubit_order\u001b[49m\u001b[43m,\u001b[49m\u001b[43m \u001b[49m\u001b[43minitial_state\u001b[49m\u001b[43m)\u001b[49m\u001b[43m)\u001b[49m\n",
      "File \u001b[1;32mc:\\Users\\svtsv\\anaconda3\\Lib\\site-packages\\cirq\\sim\\simulator_base.py:331\u001b[0m, in \u001b[0;36mSimulatorBase.simulate_sweep_iter\u001b[1;34m(self, program, params, qubit_order, initial_state)\u001b[0m\n\u001b[0;32m    329\u001b[0m     \u001b[38;5;28;01mpass\u001b[39;00m\n\u001b[0;32m    330\u001b[0m sim_state \u001b[38;5;241m=\u001b[39m step_result\u001b[38;5;241m.\u001b[39m_sim_state\n\u001b[1;32m--> 331\u001b[0m \u001b[38;5;28;01myield from\u001b[39;00m \u001b[38;5;28msuper\u001b[39m()\u001b[38;5;241m.\u001b[39msimulate_sweep_iter(suffix, params, qubit_order, sim_state)\n",
      "File \u001b[1;32mc:\\Users\\svtsv\\anaconda3\\Lib\\site-packages\\cirq\\sim\\simulator.py:613\u001b[0m, in \u001b[0;36mSimulatesIntermediateState.simulate_sweep_iter\u001b[1;34m(self, program, params, qubit_order, initial_state)\u001b[0m\n\u001b[0;32m    609\u001b[0m all_step_results \u001b[38;5;241m=\u001b[39m \u001b[38;5;28mself\u001b[39m\u001b[38;5;241m.\u001b[39msimulate_moment_steps(\n\u001b[0;32m    610\u001b[0m     program, param_resolver, qubit_order, state\n\u001b[0;32m    611\u001b[0m )\n\u001b[0;32m    612\u001b[0m measurements: Dict[\u001b[38;5;28mstr\u001b[39m, np\u001b[38;5;241m.\u001b[39mndarray] \u001b[38;5;241m=\u001b[39m {}\n\u001b[1;32m--> 613\u001b[0m \u001b[43m\u001b[49m\u001b[38;5;28;43;01mfor\u001b[39;49;00m\u001b[43m \u001b[49m\u001b[43mstep_result\u001b[49m\u001b[43m \u001b[49m\u001b[38;5;129;43;01min\u001b[39;49;00m\u001b[43m \u001b[49m\u001b[43mall_step_results\u001b[49m\u001b[43m:\u001b[49m\n\u001b[0;32m    614\u001b[0m \u001b[43m    \u001b[49m\u001b[38;5;28;43;01mfor\u001b[39;49;00m\u001b[43m \u001b[49m\u001b[43mk\u001b[49m\u001b[43m,\u001b[49m\u001b[43m \u001b[49m\u001b[43mv\u001b[49m\u001b[43m \u001b[49m\u001b[38;5;129;43;01min\u001b[39;49;00m\u001b[43m \u001b[49m\u001b[43mstep_result\u001b[49m\u001b[38;5;241;43m.\u001b[39;49m\u001b[43mmeasurements\u001b[49m\u001b[38;5;241;43m.\u001b[39;49m\u001b[43mitems\u001b[49m\u001b[43m(\u001b[49m\u001b[43m)\u001b[49m\u001b[43m:\u001b[49m\n\u001b[0;32m    615\u001b[0m \u001b[43m        \u001b[49m\u001b[43mmeasurements\u001b[49m\u001b[43m[\u001b[49m\u001b[43mk\u001b[49m\u001b[43m]\u001b[49m\u001b[43m \u001b[49m\u001b[38;5;241;43m=\u001b[39;49m\u001b[43m \u001b[49m\u001b[43mnp\u001b[49m\u001b[38;5;241;43m.\u001b[39;49m\u001b[43marray\u001b[49m\u001b[43m(\u001b[49m\u001b[43mv\u001b[49m\u001b[43m,\u001b[49m\u001b[43m \u001b[49m\u001b[43mdtype\u001b[49m\u001b[38;5;241;43m=\u001b[39;49m\u001b[43mnp\u001b[49m\u001b[38;5;241;43m.\u001b[39;49m\u001b[43muint8\u001b[49m\u001b[43m)\u001b[49m\n",
      "File \u001b[1;32mc:\\Users\\svtsv\\anaconda3\\Lib\\site-packages\\cirq\\sim\\simulator_base.py:222\u001b[0m, in \u001b[0;36mSimulatorBase._core_iterator\u001b[1;34m(self, circuit, sim_state, all_measurements_are_terminal)\u001b[0m\n\u001b[0;32m    220\u001b[0m         protocols\u001b[38;5;241m.\u001b[39mact_on(op, sim_state)\n\u001b[0;32m    221\u001b[0m     \u001b[38;5;28;01mexcept\u001b[39;00m \u001b[38;5;167;01mTypeError\u001b[39;00m:\n\u001b[1;32m--> 222\u001b[0m         \u001b[38;5;28;01mraise\u001b[39;00m \u001b[38;5;167;01mTypeError\u001b[39;00m(\u001b[38;5;124mf\u001b[39m\u001b[38;5;124m\"\u001b[39m\u001b[38;5;132;01m{\u001b[39;00m\u001b[38;5;28mself\u001b[39m\u001b[38;5;241m.\u001b[39m\u001b[38;5;18m__class__\u001b[39m\u001b[38;5;241m.\u001b[39m\u001b[38;5;18m__name__\u001b[39m\u001b[38;5;132;01m}\u001b[39;00m\u001b[38;5;124m doesn\u001b[39m\u001b[38;5;124m'\u001b[39m\u001b[38;5;124mt support \u001b[39m\u001b[38;5;132;01m{\u001b[39;00mop\u001b[38;5;132;01m!r}\u001b[39;00m\u001b[38;5;124m\"\u001b[39m)\n\u001b[0;32m    224\u001b[0m \u001b[38;5;28;01myield\u001b[39;00m \u001b[38;5;28mself\u001b[39m\u001b[38;5;241m.\u001b[39m_create_step_result(sim_state)\n",
      "\u001b[1;31mTypeError\u001b[0m: Simulator doesn't support <qudit_cirq.qudit.quditMeasurementGate object at 0x000002340850FB90>.on(cirq.NamedQid('q0', dimension=3))"
     ]
    }
   ],
   "source": [
    "simulator = cirq.Simulator()\n",
    "result = simulator.simulate(circuit)"
   ]
  },
  {
   "cell_type": "code",
   "execution_count": 11,
   "metadata": {},
   "outputs": [],
   "source": [
    "final = result.final_state_vector"
   ]
  },
  {
   "cell_type": "code",
   "execution_count": 12,
   "metadata": {},
   "outputs": [
    {
     "data": {
      "text/plain": [
       "array([ 0.        +0.j        ,  0.        +0.j        ,\n",
       "       -0.28867513-0.49999997j,  0.57735026+0.j        ,\n",
       "        0.        +0.j        ,  0.        +0.j        ,\n",
       "        0.        +0.j        , -0.28867513+0.49999997j,\n",
       "        0.        +0.j        ], dtype=complex64)"
      ]
     },
     "execution_count": 12,
     "metadata": {},
     "output_type": "execute_result"
    }
   ],
   "source": [
    "final"
   ]
  },
  {
   "cell_type": "code",
   "execution_count": 22,
   "metadata": {},
   "outputs": [],
   "source": [
    "measurements = measure_qudits(final, qudit_order)"
   ]
  },
  {
   "cell_type": "code",
   "execution_count": 23,
   "metadata": {},
   "outputs": [
    {
     "name": "stdout",
     "output_type": "stream",
     "text": [
      "\n",
      "Manual Measurement Results:\n",
      "q1: 0\n",
      "q0: 1\n"
     ]
    }
   ],
   "source": [
    "print(\"\\nManual Measurement Results:\")\n",
    "for qudit_name, outcome in measurements.items():\n",
    "    print(f\"{qudit_name}: {outcome}\")"
   ]
  },
  {
   "cell_type": "code",
   "execution_count": null,
   "metadata": {},
   "outputs": [],
   "source": []
  }
 ],
 "metadata": {
  "kernelspec": {
   "display_name": "base",
   "language": "python",
   "name": "python3"
  },
  "language_info": {
   "codemirror_mode": {
    "name": "ipython",
    "version": 3
   },
   "file_extension": ".py",
   "mimetype": "text/x-python",
   "name": "python",
   "nbconvert_exporter": "python",
   "pygments_lexer": "ipython3",
   "version": "3.12.4"
  }
 },
 "nbformat": 4,
 "nbformat_minor": 2
}
