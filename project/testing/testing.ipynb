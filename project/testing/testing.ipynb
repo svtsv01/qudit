{
 "cells": [
  {
   "cell_type": "code",
   "execution_count": 4,
   "metadata": {},
   "outputs": [],
   "source": [
    "import sys\n",
    "import os\n",
    "\n",
    "sys.path.append(os.path.abspath(\"..\"))  "
   ]
  },
  {
   "cell_type": "code",
   "execution_count": 5,
   "metadata": {},
   "outputs": [],
   "source": [
    "import cirq\n",
    "import random\n",
    "from qudit_cirq.circuit_builder import create_circuit\n",
    "from qudit_cirq.qudit import quditXGate, quditZGate, quditHGate, quditCNOTGate, state_vector, quditMeasurementGate, measure_qudits\n",
    "from qudit_cirq.utils import format_out, printVector, tensor_product"
   ]
  },
  {
   "cell_type": "code",
   "execution_count": 6,
   "metadata": {},
   "outputs": [],
   "source": [
    "#initial testing\n",
    "\n",
    "d = 3\n",
    "qudit0 = 'q0'\n",
    "qudit1 = 'q1'"
   ]
  },
  {
   "cell_type": "code",
   "execution_count": 7,
   "metadata": {},
   "outputs": [],
   "source": [
    "args = [\n",
    "    d,  \n",
    "    (quditHGate, qudit0),\n",
    "    (quditCNOTGate, [qudit0, qudit1]),\n",
    "    (quditZGate, qudit1),\n",
    "    (quditXGate, qudit0),\n",
    "    (quditMeasurementGate, qudit0), \n",
    "    (quditMeasurementGate, qudit1)   \n",
    "]"
   ]
  },
  {
   "cell_type": "code",
   "execution_count": 8,
   "metadata": {},
   "outputs": [],
   "source": [
    "circuit, qudits, qudit_order = create_circuit(*args)"
   ]
  },
  {
   "cell_type": "code",
   "execution_count": 9,
   "metadata": {},
   "outputs": [
    {
     "data": {
      "text/html": [
       "<pre style=\"overflow: auto; white-space: pre;\">q0 (d=3): ───H(d=3)───┬───────────X(d=3)───M(d=3)───\n",
       "                      │\n",
       "q1 (d=3): ────────────CNOT(d=3)───Z(d=3)───M(d=3)───</pre>"
      ],
      "text/plain": [
       "q0 (d=3): ───H(d=3)───┬───────────X(d=3)───M(d=3)───\n",
       "                      │\n",
       "q1 (d=3): ────────────CNOT(d=3)───Z(d=3)───M(d=3)───"
      ]
     },
     "execution_count": 9,
     "metadata": {},
     "output_type": "execute_result"
    }
   ],
   "source": [
    "circuit"
   ]
  },
  {
   "cell_type": "code",
   "execution_count": 10,
   "metadata": {},
   "outputs": [],
   "source": [
    "args = [\n",
    "    d,  \n",
    "    (quditHGate, qudit0),\n",
    "    (quditCNOTGate, [qudit0, qudit1]),\n",
    "    (quditZGate, qudit1),\n",
    "    (quditXGate, qudit0)  \n",
    "]"
   ]
  },
  {
   "cell_type": "code",
   "execution_count": 11,
   "metadata": {},
   "outputs": [],
   "source": [
    "circuit, qudits, qudit_order = create_circuit(*args)"
   ]
  },
  {
   "cell_type": "code",
   "execution_count": 12,
   "metadata": {},
   "outputs": [
    {
     "data": {
      "text/html": [
       "<pre style=\"overflow: auto; white-space: pre;\">q0 (d=3): ───H(d=3)───┬───────────X(d=3)───\n",
       "                      │\n",
       "q1 (d=3): ────────────CNOT(d=3)───Z(d=3)───</pre>"
      ],
      "text/plain": [
       "q0 (d=3): ───H(d=3)───┬───────────X(d=3)───\n",
       "                      │\n",
       "q1 (d=3): ────────────CNOT(d=3)───Z(d=3)───"
      ]
     },
     "execution_count": 12,
     "metadata": {},
     "output_type": "execute_result"
    }
   ],
   "source": [
    "circuit"
   ]
  },
  {
   "cell_type": "code",
   "execution_count": 13,
   "metadata": {},
   "outputs": [],
   "source": [
    "simulator = cirq.Simulator()\n",
    "result = simulator.simulate(circuit)"
   ]
  },
  {
   "cell_type": "code",
   "execution_count": 14,
   "metadata": {},
   "outputs": [],
   "source": [
    "final = result.final_state_vector"
   ]
  },
  {
   "cell_type": "code",
   "execution_count": 17,
   "metadata": {},
   "outputs": [
    {
     "data": {
      "text/plain": [
       "array([ 0.        +0.j        ,  0.        +0.j        ,\n",
       "       -0.28867513-0.49999997j,  0.57735026+0.j        ,\n",
       "        0.        +0.j        ,  0.        +0.j        ,\n",
       "        0.        +0.j        , -0.28867513+0.49999997j,\n",
       "        0.        +0.j        ], dtype=complex64)"
      ]
     },
     "execution_count": 17,
     "metadata": {},
     "output_type": "execute_result"
    }
   ],
   "source": [
    "final"
   ]
  },
  {
   "cell_type": "code",
   "execution_count": 25,
   "metadata": {},
   "outputs": [],
   "source": [
    "measurements = measure_qudits(final, qudit_order)"
   ]
  },
  {
   "cell_type": "code",
   "execution_count": 26,
   "metadata": {},
   "outputs": [
    {
     "name": "stdout",
     "output_type": "stream",
     "text": [
      "\n",
      "Manual Measurement Results:\n",
      "q1: 2\n",
      "q0: 0\n"
     ]
    }
   ],
   "source": [
    "print(\"\\nManual Measurement Results:\")\n",
    "for qudit_name, outcome in measurements.items():\n",
    "    print(f\"{qudit_name}: {outcome}\")"
   ]
  }
 ],
 "metadata": {
  "kernelspec": {
   "display_name": "base",
   "language": "python",
   "name": "python3"
  },
  "language_info": {
   "codemirror_mode": {
    "name": "ipython",
    "version": 3
   },
   "file_extension": ".py",
   "mimetype": "text/x-python",
   "name": "python",
   "nbconvert_exporter": "python",
   "pygments_lexer": "ipython3",
   "version": "3.12.4"
  }
 },
 "nbformat": 4,
 "nbformat_minor": 2
}
