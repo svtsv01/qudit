{
 "cells": [
  {
   "cell_type": "code",
   "execution_count": 2,
   "metadata": {},
   "outputs": [],
   "source": [
    "import sys\n",
    "import os\n",
    "\n",
    "sys.path.append(os.path.abspath(\"..\"))  "
   ]
  },
  {
   "cell_type": "code",
   "execution_count": 3,
   "metadata": {},
   "outputs": [],
   "source": [
    "import cirq\n",
    "import random\n",
    "from qudit_cirq.circuit_builder import create_circuit\n",
    "from qudit_cirq.qudit import quditXGate, quditZGate, quditHGate, quditCNOTGate, state_vector\n",
    "from qudit_cirq.utils import format_out, printVector, tensor_product"
   ]
  },
  {
   "cell_type": "code",
   "execution_count": 29,
   "metadata": {},
   "outputs": [],
   "source": [
    "n = 16\n",
    "d = 3"
   ]
  },
  {
   "cell_type": "code",
   "execution_count": 30,
   "metadata": {},
   "outputs": [],
   "source": [
    "setOfGates = [quditXGate, quditZGate, quditHGate]"
   ]
  },
  {
   "cell_type": "code",
   "execution_count": 31,
   "metadata": {},
   "outputs": [],
   "source": [
    "#  initial state vectors - |0⟩\n",
    "initial_states = [state_vector(d, 0) for _ in range(n)]\n",
    "initial_state = tensor_product(*initial_states)"
   ]
  },
  {
   "cell_type": "code",
   "execution_count": 32,
   "metadata": {},
   "outputs": [],
   "source": [
    "qudit_names = [f\"qudit{i}\" for i in range(n)]"
   ]
  },
  {
   "cell_type": "code",
   "execution_count": 33,
   "metadata": {},
   "outputs": [],
   "source": [
    "gates_to_apply = []\n",
    "\n",
    "for i in range(n):\n",
    "    # Randomly apply gates\n",
    "    gate_type = random.choice(setOfGates)\n",
    "    qudit_name = qudit_names[i]\n",
    "    gates_to_apply.append((d, gate_type, qudit_name))"
   ]
  },
  {
   "cell_type": "code",
   "execution_count": 34,
   "metadata": {},
   "outputs": [],
   "source": [
    "# Randomly add CNOT\n",
    "for _ in range(n // 2):\n",
    "    control_index = random.randint(0, n - 1)\n",
    "    target_index = random.randint(0, n - 1)\n",
    "    if control_index != target_index:\n",
    "        control_qudit = qudit_names[control_index]\n",
    "        target_qudit = qudit_names[target_index]\n",
    "        gates_to_apply.append((d, quditCNOTGate, [control_qudit, target_qudit]))"
   ]
  },
  {
   "cell_type": "code",
   "execution_count": 35,
   "metadata": {},
   "outputs": [
    {
     "name": "stdout",
     "output_type": "stream",
     "text": [
      "Constructed Circuit:\n",
      "                           ┌───────────────────────────┐   ┌──────────────────┐\n",
      "qudit0 (d=3): ────Z(d=3)────┬─────────────────────────────────────────────────────────────────\n",
      "                            │\n",
      "qudit1 (d=3): ────Z(d=3)────┼─────────────────────────────────────────────────────────────────\n",
      "                            │\n",
      "qudit2 (d=3): ────X(d=3)────┼─────────────────────────────────────────────────────────────────\n",
      "                            │\n",
      "qudit3 (d=3): ────Z(d=3)────CNOT(d=3)─────────────────────────────────────────────────────────\n",
      "\n",
      "qudit4 (d=3): ────Z(d=3)────┬────────────────────────────────────────CNOT(d=3)────────────────\n",
      "                            │                                        │\n",
      "qudit5 (d=3): ────H(d=3)────┼─────────────────CNOT(d=3)──────────────┼────────────────────────\n",
      "                            │                 │                      │\n",
      "qudit6 (d=3): ────Z(d=3)────┼────────CNOT(d=3)┼──────────────────────┼────────────────────────\n",
      "                            │        │        │                      │\n",
      "qudit7 (d=3): ────H(d=3)────┼────────┼────────┼──────────────────────┼────────────────────────\n",
      "                            │        │        │                      │\n",
      "qudit8 (d=3): ────H(d=3)────CNOT(d=3)┼────────┼──────────────────────┼────────────────────────\n",
      "                                     │        │                      │\n",
      "qudit9 (d=3): ────X(d=3)─────────────┴────────┼─────────────┬────────┼────────────────────────\n",
      "                                              │             │        │\n",
      "qudit10 (d=3): ───X(d=3)──────────────────────┼─────────────┼────────┴────────────CNOT(d=3)───\n",
      "                                              │             │                     │\n",
      "qudit11 (d=3): ───X(d=3)──────────────────────┼─────────────┼─────────────────────┼───────────\n",
      "                                              │             │                     │\n",
      "qudit12 (d=3): ───H(d=3)──────────────────────┼─────────────┼─────────────────────┼───────────\n",
      "                                              │             │                     │\n",
      "qudit13 (d=3): ───H(d=3)──────────────────────┼─────────────CNOT(d=3)─────────────┴───────────\n",
      "                                              │\n",
      "qudit14 (d=3): ───X(d=3)──────────────────────┼───────────────────────────────────────────────\n",
      "                                              │\n",
      "qudit15 (d=3): ───H(d=3)──────────────────────┴───────────────────────────────────────────────\n",
      "                           └───────────────────────────┘   └──────────────────┘\n"
     ]
    }
   ],
   "source": [
    "# Build the circuit\n",
    "circuit, qudits, qudit_order = create_circuit(*gates_to_apply)\n",
    "print(\"Constructed Circuit:\")\n",
    "print(circuit.to_text_diagram(qubit_order=qudit_order))"
   ]
  },
  {
   "cell_type": "code",
   "execution_count": 36,
   "metadata": {},
   "outputs": [],
   "source": [
    "# Initialize the simulator\n",
    "simulator = cirq.Simulator()\n",
    "\n",
    "# Simulate the circuit\n",
    "result = simulator.simulate(circuit, initial_state=initial_state)"
   ]
  },
  {
   "cell_type": "code",
   "execution_count": 12,
   "metadata": {},
   "outputs": [
    {
     "name": "stdout",
     "output_type": "stream",
     "text": [
      "\n",
      "Final state vector:\n",
      "|100011002⟩: (0.19245007634162903+0j)\n",
      "|100011011⟩: (0.19245007634162903+0j)\n",
      "|100011020⟩: (0.19245007634162903+0j)\n",
      "|100111002⟩: (0.19245007634162903+0j)\n",
      "|100111011⟩: (0.19245007634162903+0j)\n",
      "|100111020⟩: (0.19245007634162903+0j)\n",
      "|100211002⟩: (0.19245007634162903+0j)\n",
      "|100211011⟩: (0.19245007634162903+0j)\n",
      "|100211020⟩: (0.19245007634162903+0j)\n",
      "|101011002⟩: (0.19245007634162903+0j)\n",
      "|101011011⟩: (0.19245007634162903+0j)\n",
      "|101011020⟩: (0.19245007634162903+0j)\n",
      "|101111002⟩: (0.19245007634162903+0j)\n",
      "|101111011⟩: (0.19245007634162903+0j)\n",
      "|101111020⟩: (0.19245007634162903+0j)\n",
      "|101211002⟩: (0.19245007634162903+0j)\n",
      "|101211011⟩: (0.19245007634162903+0j)\n",
      "|101211020⟩: (0.19245007634162903+0j)\n",
      "|102011002⟩: (0.19245007634162903+0j)\n",
      "|102011011⟩: (0.19245007634162903+0j)\n",
      "|102011020⟩: (0.19245007634162903+0j)\n",
      "|102111002⟩: (0.19245007634162903+0j)\n",
      "|102111011⟩: (0.19245007634162903+0j)\n",
      "|102111020⟩: (0.19245007634162903+0j)\n",
      "|102211002⟩: (0.19245007634162903+0j)\n",
      "|102211011⟩: (0.19245007634162903+0j)\n",
      "|102211020⟩: (0.19245007634162903+0j)\n"
     ]
    }
   ],
   "source": [
    "# Extract and print the final state vector\n",
    "final_state = result.final_state_vector\n",
    "printVector(final_state, d, qudits=qudit_order)"
   ]
  }
 ],
 "metadata": {
  "kernelspec": {
   "display_name": "Python 3",
   "language": "python",
   "name": "python3"
  },
  "language_info": {
   "codemirror_mode": {
    "name": "ipython",
    "version": 3
   },
   "file_extension": ".py",
   "mimetype": "text/x-python",
   "name": "python",
   "nbconvert_exporter": "python",
   "pygments_lexer": "ipython3",
   "version": "3.12.1"
  }
 },
 "nbformat": 4,
 "nbformat_minor": 2
}
