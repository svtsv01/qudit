{
 "cells": [
  {
   "cell_type": "code",
   "execution_count": 59,
   "metadata": {},
   "outputs": [],
   "source": [
    "import cirq\n",
    "import numpy as np\n",
    "from typing import Any, Tuple, Optional"
   ]
  },
  {
   "cell_type": "code",
   "execution_count": 60,
   "metadata": {},
   "outputs": [],
   "source": [
    "class QuditXGate(cirq.Gate):\n",
    "    def __init__(self, d: int):\n",
    "        super().__init__()\n",
    "        self.d = d\n",
    "\n",
    "    def _qid_shape_(self) -> Tuple[int, ...]:\n",
    "        return (self.d, )\n",
    "\n",
    "    def _unitary_(self) -> np.ndarray:\n",
    "        X = np.zeros((self.d, self.d), dtype=complex)\n",
    "        for i in range(self.d):\n",
    "            X[i, (i + 1) % self.d] = 1\n",
    "        return X\n",
    "\n",
    "    def _circuit_diagram_info_(self, args: cirq.CircuitDiagramInfoArgs) -> cirq.CircuitDiagramInfo:\n",
    "        return cirq.CircuitDiagramInfo(wire_symbols=('X',))\n"
   ]
  },
  {
   "cell_type": "code",
   "execution_count": 61,
   "metadata": {},
   "outputs": [],
   "source": [
    "class QuditHGate(cirq.Gate):\n",
    "    def __init__(self, d: int):\n",
    "        super().__init__()\n",
    "        self.d = d\n",
    "        self.omega = np.exp(2j * np.pi / self.d)\n",
    "\n",
    "    def _qid_shape_(self) -> Tuple[int, ...]:\n",
    "        return (self.d, )\n",
    "\n",
    "    def _unitary_(self) -> np.ndarray:\n",
    "        H = np.array([[self.omega**(k * m) for m in range(self.d)] for k in range(self.d)])\n",
    "        H /= np.sqrt(self.d)\n",
    "        return H\n",
    "\n",
    "    def _circuit_diagram_info_(self, args: cirq.CircuitDiagramInfoArgs) -> cirq.CircuitDiagramInfo:\n",
    "        return cirq.CircuitDiagramInfo(wire_symbols=('H',))\n"
   ]
  },
  {
   "cell_type": "code",
   "execution_count": 62,
   "metadata": {},
   "outputs": [],
   "source": [
    "class QuditZGate(cirq.Gate):\n",
    "    def __init__(self, d: int):\n",
    "        super().__init__()\n",
    "        self.d = d\n",
    "        self.omega = np.exp(2j * np.pi / self.d)\n",
    "\n",
    "    def _qid_shape_(self) -> Tuple[int, ...]:\n",
    "        return (self.d, )\n",
    "\n",
    "    def _unitary_(self) -> np.ndarray:\n",
    "        Z = np.diag([self.omega**k for k in range(self.d)])\n",
    "        return Z\n",
    "\n",
    "    def _circuit_diagram_info_(self, args: cirq.CircuitDiagramInfoArgs) -> cirq.CircuitDiagramInfo:\n",
    "        return cirq.CircuitDiagramInfo(wire_symbols=('Z',))\n"
   ]
  },
  {
   "cell_type": "code",
   "execution_count": 63,
   "metadata": {},
   "outputs": [],
   "source": [
    "class QuditCNOTGate(cirq.Gate):\n",
    "    def __init__(self, d: int):\n",
    "        super().__init__()\n",
    "        self.d = d\n",
    "\n",
    "    def _qid_shape_(self) -> Tuple[int, ...]:\n",
    "        return (self.d, self.d)\n",
    "\n",
    "    def _unitary_(self) -> np.ndarray:\n",
    "        size = self.d ** 2\n",
    "        CNOT = np.zeros((size, size), dtype=complex)\n",
    "        for a in range(self.d):\n",
    "            for b in range(self.d):\n",
    "                control = a\n",
    "                target = (b + a) % self.d\n",
    "                row = a * self.d + b\n",
    "                col = a * self.d + target\n",
    "                CNOT[row, col] = 1\n",
    "        return CNOT\n",
    "\n",
    "    def _circuit_diagram_info_(self, args: cirq.CircuitDiagramInfoArgs) -> cirq.CircuitDiagramInfo:\n",
    "        return cirq.CircuitDiagramInfo(wire_symbols=('C', 'X'))\n"
   ]
  },
  {
   "cell_type": "code",
   "execution_count": 64,
   "metadata": {},
   "outputs": [],
   "source": [
    "def qudit_measure(qudit: cirq.Qid, key: str) -> cirq.Operation:\n",
    "    return cirq.measure(qudit, key=key)\n"
   ]
  },
  {
   "cell_type": "code",
   "execution_count": 65,
   "metadata": {},
   "outputs": [],
   "source": [
    "d = 4  \n",
    "\n",
    "qudit0 = cirq.LineQid(0, dimension=d)\n",
    "qudit1 = cirq.LineQid(1, dimension=d)\n",
    "\n",
    "qudit_x = QuditXGate(d)\n",
    "qudit_z = QuditZGate(d)\n",
    "qudit_h = QuditHGate(d)\n",
    "qudit_cnot = QuditCNOTGate(d)"
   ]
  },
  {
   "cell_type": "code",
   "execution_count": 66,
   "metadata": {},
   "outputs": [
    {
     "data": {
      "text/plain": [
       "cirq.LineQid(0, dimension=4)"
      ]
     },
     "execution_count": 66,
     "metadata": {},
     "output_type": "execute_result"
    }
   ],
   "source": [
    "qudit0"
   ]
  },
  {
   "cell_type": "code",
   "execution_count": 67,
   "metadata": {},
   "outputs": [
    {
     "name": "stdout",
     "output_type": "stream",
     "text": [
      "Circuit:\n",
      "0 (d=4): ───H───C───Z───M('m0')───\n",
      "                │\n",
      "1 (d=4): ───────X───X───M('m1')───\n"
     ]
    }
   ],
   "source": [
    "circuit = cirq.Circuit()\n",
    "\n",
    "circuit.append(qudit_h.on(qudit0))\n",
    "circuit.append(qudit_cnot.on(qudit0, qudit1))\n",
    "circuit.append(qudit_x.on(qudit1))\n",
    "circuit.append(qudit_z.on(qudit0))\n",
    "circuit.append(qudit_measure(qudit0, key='m0'))\n",
    "circuit.append(qudit_measure(qudit1, key='m1'))\n",
    "\n",
    "print(\"Circuit:\")\n",
    "print(circuit)"
   ]
  },
  {
   "cell_type": "code",
   "execution_count": 68,
   "metadata": {},
   "outputs": [
    {
     "name": "stdout",
     "output_type": "stream",
     "text": [
      "m0 results: [3 2 2 3 1 2 2 0 0 0]\n",
      "m1 results: [0 1 1 0 2 1 1 3 3 3]\n"
     ]
    }
   ],
   "source": [
    "simulator = cirq.Simulator()\n",
    "result = simulator.run(circuit, repetitions=10)\n",
    "\n",
    "m0_results = result.measurements['m0'].flatten()\n",
    "m1_results = result.measurements['m1'].flatten()\n",
    "\n",
    "print(\"m0 results:\", m0_results)\n",
    "print(\"m1 results:\", m1_results)"
   ]
  },
  {
   "cell_type": "markdown",
   "metadata": {},
   "source": [
    "# Quantum Teleportation:"
   ]
  },
  {
   "cell_type": "code",
   "execution_count": 70,
   "metadata": {},
   "outputs": [],
   "source": [
    "message = cirq.LineQid(0, dimension=d)\n",
    "alice = cirq.LineQid(1, dimension=d)\n",
    "bob = cirq.LineQid(2, dimension=d)\n",
    "\n",
    "\n",
    "circuit = cirq.Circuit()\n"
   ]
  }
 ],
 "metadata": {
  "kernelspec": {
   "display_name": "base",
   "language": "python",
   "name": "python3"
  },
  "language_info": {
   "codemirror_mode": {
    "name": "ipython",
    "version": 3
   },
   "file_extension": ".py",
   "mimetype": "text/x-python",
   "name": "python",
   "nbconvert_exporter": "python",
   "pygments_lexer": "ipython3",
   "version": "3.12.4"
  }
 },
 "nbformat": 4,
 "nbformat_minor": 2
}
