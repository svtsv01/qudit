{
  "cells": [
    {
      "cell_type": "code",
      "execution_count": 1,
      "metadata": {},
      "outputs": [],
      "source": [
        "import sys\n",
        "import os\n",
        "\n",
        "\n",
        "sys.path.append(os.path.abspath(\"..\"))  "
      ]
    },
    {
      "cell_type": "code",
      "execution_count": 2,
      "metadata": {},
      "outputs": [],
      "source": [
        "import cirq\n",
        "from qudit_cirq.circuit_builder import create_circuit\n",
        "from qudit_cirq.utils import format_out, printVector, tensor_product\n",
        "from qudit_cirq.qudit import quditXGate, quditZGate, quditHGate, quditCNOTGate, state_vector, qudit_measure, quditU8Gate, quditPhaseGate, quditCZGate"
      ]
    },
    {
      "cell_type": "code",
      "execution_count": null,
      "metadata": {},
      "outputs": [],
      "source": [
        "d = 2\n",
        "target = cirq.LineQid(0, d)\n",
        "control = cirq.LineQid(1, d)\n",
        "\n",
        "cz_gate = quditCZGate(d)"
      ]
    },
    {
      "cell_type": "code",
      "execution_count": null,
      "metadata": {},
      "outputs": [],
      "source": [
        "circuit = cirq.Circuit(\n",
        "quditCZGate(control,  target)\n",
        ")\n",
        "\n",
        "print(circuit)"
      ]
    },
    {
      "cell_type": "code",
      "execution_count": 3,
      "metadata": {},
      "outputs": [
        {
          "name": "stdout",
          "output_type": "stream",
          "text": [
            "[0, 3, 3, 2, 2]\n",
            "0 (d=5): ───U8(d=5)───P(d=5)───\n"
          ]
        }
      ],
      "source": [
        "d = 5\n",
        "\n",
        "qubit = qudit = cirq.LineQid(0, d)\n",
        "\n",
        "u8_gate = quditU8Gate(d)\n",
        "phase_gate = quditPhaseGate(d)\n",
        "\n",
        "\n",
        "circuit = cirq.Circuit(\n",
        "    u8_gate(qubit),\n",
        "    phase_gate(qubit),\n",
        ")\n",
        "\n",
        "print(circuit)"
      ]
    },
    {
      "cell_type": "code",
      "execution_count": 9,
      "metadata": {},
      "outputs": [
        {
          "name": "stdout",
          "output_type": "stream",
          "text": [
            "Unitary matrix of U_{pi/8} gate:\n",
            "[[ 1.        +0.j          0.        +0.j          0.        +0.j\n",
            "   0.        +0.j          0.        +0.j        ]\n",
            " [ 0.        +0.j         -0.80901699-0.58778525j  0.        +0.j\n",
            "   0.        +0.j          0.        +0.j        ]\n",
            " [ 0.        +0.j          0.        +0.j         -0.80901699-0.58778525j\n",
            "   0.        +0.j          0.        +0.j        ]\n",
            " [ 0.        +0.j          0.        +0.j          0.        +0.j\n",
            "  -0.80901699+0.58778525j  0.        +0.j        ]\n",
            " [ 0.        +0.j          0.        +0.j          0.        +0.j\n",
            "   0.        +0.j         -0.80901699+0.58778525j]]\n"
          ]
        }
      ],
      "source": [
        "u8_unitary = cirq.unitary(u8_gate)\n",
        "print(\"Unitary matrix of U_{pi/8} gate:\")\n",
        "print(u8_unitary)"
      ]
    },
    {
      "cell_type": "code",
      "execution_count": 10,
      "metadata": {},
      "outputs": [],
      "source": [
        "d = 4 # dimensions"
      ]
    },
    {
      "cell_type": "code",
      "execution_count": 11,
      "metadata": {},
      "outputs": [
        {
          "ename": "NameError",
          "evalue": "name 'quditTGate' is not defined",
          "output_type": "error",
          "traceback": [
            "\u001b[1;31m---------------------------------------------------------------------------\u001b[0m",
            "\u001b[1;31mNameError\u001b[0m                                 Traceback (most recent call last)",
            "\u001b[1;32m~\\AppData\\Local\\Temp\\ipykernel_17808\\3231554691.py\u001b[0m in \u001b[0;36m<cell line: 4>\u001b[1;34m()\u001b[0m\n\u001b[0;32m      4\u001b[0m circuit, qudits, qudit_order = create_circuit(\n\u001b[0;32m      5\u001b[0m     \u001b[1;33m(\u001b[0m\u001b[1;36m3\u001b[0m\u001b[1;33m,\u001b[0m \u001b[0mquditHGate\u001b[0m\u001b[1;33m,\u001b[0m \u001b[1;34m'q0'\u001b[0m\u001b[1;33m)\u001b[0m\u001b[1;33m,\u001b[0m\u001b[1;33m\u001b[0m\u001b[1;33m\u001b[0m\u001b[0m\n\u001b[1;32m----> 6\u001b[1;33m     \u001b[1;33m(\u001b[0m\u001b[1;36m4\u001b[0m\u001b[1;33m,\u001b[0m \u001b[0mquditTGate\u001b[0m\u001b[1;33m,\u001b[0m \u001b[1;34m'q1'\u001b[0m\u001b[1;33m)\u001b[0m\u001b[1;33m\u001b[0m\u001b[1;33m\u001b[0m\u001b[0m\n\u001b[0m\u001b[0;32m      7\u001b[0m )\n\u001b[0;32m      8\u001b[0m \u001b[1;33m\u001b[0m\u001b[0m\n",
            "\u001b[1;31mNameError\u001b[0m: name 'quditTGate' is not defined"
          ]
        }
      ],
      "source": [
        "from qudit_cirq.qudit import quditHGate, quditCNOTGate, qudit_measure\n",
        "\n",
        "# Build the circuit using create_circuit\n",
        "circuit, qudits, qudit_order = create_circuit(\n",
        "    (3, quditHGate, 'q0'),\n",
        "    (4, quditTGate, 'q1')\n",
        ")\n",
        "\n",
        "circuit"
      ]
    },
    {
      "cell_type": "code",
      "execution_count": 12,
      "metadata": {},
      "outputs": [
        {
          "name": "stdout",
          "output_type": "stream",
          "text": [
            "Circuit:\n",
            "q0 (d=3): ───H(d=3)───\n",
            "\n",
            "q1 (d=3): ───H(d=3)───\n",
            "\n",
            "Final state vector:\n",
            "|00⟩: (0.3333333134651184+0j)\n",
            "|01⟩: (0.3333333134651184+0j)\n",
            "|02⟩: (0.3333333134651184+0j)\n",
            "|10⟩: (0.3333333134651184+0j)\n",
            "|11⟩: (0.3333333134651184+0j)\n",
            "|12⟩: (0.3333333134651184+0j)\n",
            "|20⟩: (0.3333333134651184+0j)\n",
            "|21⟩: (0.3333333134651184+0j)\n",
            "|22⟩: (0.3333333134651184+0j)\n"
          ]
        }
      ],
      "source": [
        "import cirq\n",
        "import numpy as np\n",
        "from qudit_cirq.qudit import quditHGate, qudit_measure\n",
        "from qudit_cirq.utils import printVector\n",
        "\n",
        "# Define the qudit dimension\n",
        "d = 3  # Dimension of the qudits\n",
        "\n",
        "# Create qudits\n",
        "qudit1 = cirq.NamedQid('q0', dimension=d)\n",
        "qudit2 = cirq.NamedQid('q1', dimension=d)\n",
        "\n",
        "# Build the circuit\n",
        "circuit = cirq.Circuit()\n",
        "circuit.append(quditHGate(d).on(qudit1))\n",
        "circuit.append(quditHGate(d).on(qudit2))\n",
        "\n",
        "# Optionally, print the circuit\n",
        "print(\"Circuit:\")\n",
        "print(circuit)\n",
        "\n",
        "# Simulate the circuit\n",
        "simulator = cirq.Simulator()\n",
        "result = simulator.simulate(circuit)\n",
        "\n",
        "# Get the final state vector\n",
        "final_state = result.final_state_vector\n",
        "\n",
        "# List of qudits in order\n",
        "qudit_order = [qudit1, qudit2]\n",
        "\n",
        "# Print the state vector using printVector\n",
        "printVector(final_state, dimensions=[d, d], qudits=qudit_order)\n"
      ]
    },
    {
      "cell_type": "code",
      "execution_count": 13,
      "metadata": {},
      "outputs": [
        {
          "name": "stdout",
          "output_type": "stream",
          "text": [
            "Formatted Matrix:\n",
            "[['1.0' '0.0']\n",
            " ['0.0' '-1.0']]\n"
          ]
        }
      ],
      "source": [
        "import numpy as np\n",
        "\n",
        "from qudit_cirq.utils import format_out\n",
        "\n",
        "# Define a matrix with complex elements\n",
        "matrix = np.array([[1+0j, 0+0j], [0+0j, -1+0j]])\n",
        "\n",
        "# Format the matrix as integers\n",
        "formatted_matrix = format_out(matrix, output_type='float')\n",
        "\n",
        "print(\"Formatted Matrix:\")\n",
        "print(formatted_matrix)"
      ]
    },
    {
      "cell_type": "code",
      "execution_count": 14,
      "metadata": {},
      "outputs": [
        {
          "data": {
            "text/html": [
              "<pre style=\"overflow: auto; white-space: pre;\">q0 (d=3): ───H(d=3)───\n",
              "\n",
              "q1 (d=3): ───H(d=3)───</pre>"
            ],
            "text/plain": [
              "q0 (d=3): ───H(d=3)───\n",
              "\n",
              "q1 (d=3): ───H(d=3)───"
            ]
          },
          "execution_count": 14,
          "metadata": {},
          "output_type": "execute_result"
        }
      ],
      "source": [
        "circuit"
      ]
    },
    {
      "cell_type": "code",
      "execution_count": 15,
      "metadata": {},
      "outputs": [
        {
          "name": "stdout",
          "output_type": "stream",
          "text": [
            "[[1.+0.j 0.+0.j 0.+0.j 0.+0.j]\n",
            " [0.+0.j 1.+0.j 0.+0.j 0.+0.j]\n",
            " [0.+0.j 0.+0.j 0.+0.j 1.+0.j]\n",
            " [0.+0.j 0.+0.j 1.+0.j 0.+0.j]]\n"
          ]
        }
      ],
      "source": [
        "x_gate = quditCNOTGate(d=2)\n",
        "x_unitary = cirq.unitary(x_gate)\n",
        "print(x_unitary)"
      ]
    },
    {
      "cell_type": "code",
      "execution_count": 16,
      "metadata": {},
      "outputs": [],
      "source": [
        "qudit0 = cirq.LineQid(0, dimension=d)\n",
        "qudit1 = cirq.LineQid(1, dimension=d)\n",
        "\n",
        "qudit_x = quditXGate(d)\n",
        "qudit_z = quditZGate(d)\n",
        "qudit_h = quditHGate(d)\n",
        "qudit_cnot = quditCNOTGate(d)"
      ]
    },
    {
      "cell_type": "code",
      "execution_count": 17,
      "metadata": {},
      "outputs": [
        {
          "name": "stdout",
          "output_type": "stream",
          "text": [
            "Circuit:\n",
            "0 (d=3): ───H(d=3)───C(d=3)───Z^1(d=3)───M('m0')───\n",
            "                     │\n",
            "1 (d=3): ────────────X(d=3)───X^1(d=3)───M('m1')───\n"
          ]
        }
      ],
      "source": [
        "circuit = cirq.Circuit()\n",
        "\n",
        "circuit.append(qudit_h.on(qudit0))\n",
        "circuit.append(qudit_cnot.on(qudit0, qudit1))\n",
        "circuit.append(qudit_x.on(qudit1))\n",
        "circuit.append(qudit_z.on(qudit0))\n",
        "circuit.append(qudit_measure(qudit0, key='m0'))\n",
        "circuit.append(qudit_measure(qudit1, key='m1'))\n",
        "\n",
        "print(\"Circuit:\")\n",
        "print(circuit)"
      ]
    },
    {
      "cell_type": "code",
      "execution_count": 18,
      "metadata": {},
      "outputs": [
        {
          "name": "stdout",
          "output_type": "stream",
          "text": [
            "Circuit:\n",
            "qudit1 (d=5): ───H(d=5)─────C(d=5)───M('m_qudit1')───\n",
            "                            │\n",
            "qudit2 (d=5): ───X^1(d=5)───X(d=5)───M('m_qudit2')───\n"
          ]
        }
      ],
      "source": [
        "circuit, qudits, qudit_order = create_circuit( 5,\n",
        "    (quditHGate, \"qudit1\"),                      \n",
        "    (quditXGate, \"qudit2\"),                      \n",
        "    (quditCNOTGate, [\"qudit1\", \"qudit2\"]),\n",
        "    (qudit_measure, \"qudit1\"),\n",
        "    (qudit_measure, \"qudit2\")      \n",
        ")\n",
        "\n",
        "print(\"Circuit:\")\n",
        "print(circuit.to_text_diagram(qubit_order=qudit_order))"
      ]
    },
    {
      "cell_type": "code",
      "execution_count": 19,
      "metadata": {},
      "outputs": [],
      "source": [
        "simulator = cirq.Simulator()\n",
        "result = simulator.run(circuit, repetitions=7)"
      ]
    },
    {
      "cell_type": "code",
      "execution_count": 20,
      "metadata": {},
      "outputs": [
        {
          "name": "stdout",
          "output_type": "stream",
          "text": [
            "m0 results: [3 2 3 1 3 3 1]\n",
            "m1 results: [3 4 3 0 3 3 0]\n"
          ]
        }
      ],
      "source": [
        "m0_results = result.measurements['m_qudit1'].flatten()\n",
        "m1_results = result.measurements['m_qudit2'].flatten()\n",
        "\n",
        "print(\"m0 results:\", m0_results)\n",
        "print(\"m1 results:\", m1_results)"
      ]
    },
    {
      "cell_type": "markdown",
      "metadata": {},
      "source": [
        "### Visulazation"
      ]
    },
    {
      "cell_type": "code",
      "execution_count": 21,
      "metadata": {},
      "outputs": [],
      "source": [
        "import matplotlib.pyplot as plt"
      ]
    },
    {
      "cell_type": "code",
      "execution_count": 22,
      "metadata": {},
      "outputs": [
        {
          "data": {
            "image/png": "[encoded data removed]",
            "text/plain": [
              "<Figure size 1200x500 with 2 Axes>"
            ]
          },
          "metadata": {},
          "output_type": "display_data"
        }
      ],
      "source": [
        "fig, axs = plt.subplots(1, 2, figsize=(12, 5))\n",
        "\n",
        "axs[0].hist(m0_results, bins=range(min(m0_results), max(m0_results) + 2), align='left', rwidth=0.8)\n",
        "axs[0].set_title(\"Measurement Results for m_qudit1\")\n",
        "axs[0].set_xlabel(\"Measurement Outcome\")\n",
        "axs[0].set_ylabel(\"Frequency\")\n",
        "axs[0].set_xticks(range(min(m0_results), max(m0_results) + 1))\n",
        "\n",
        "axs[1].hist(m1_results, bins=range(min(m1_results), max(m1_results) + 2), align='left', rwidth=0.8)\n",
        "axs[1].set_title(\"Measurement Results for m_qudit2\")\n",
        "axs[1].set_xlabel(\"Measurement Outcome\")\n",
        "axs[1].set_ylabel(\"Frequency\")\n",
        "axs[1].set_xticks(range(min(m1_results), max(m1_results) + 1))\n",
        "\n",
        "plt.tight_layout()\n",
        "plt.show()"
      ]
    }
  ],
  "metadata": {
    "kernelspec": {
      "display_name": "base",
      "language": "python",
      "name": "python3"
    },
    "language_info": {
      "codemirror_mode": {
        "name": "ipython",
        "version": 3
      },
      "file_extension": ".py",
      "mimetype": "text/x-python",
      "name": "python",
      "nbconvert_exporter": "python",
      "pygments_lexer": "ipython3",
      "version": "3.12.4"
    }
  },
  "nbformat": 4,
  "nbformat_minor": 2
}
