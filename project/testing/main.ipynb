{
 "cells": [
  {
   "cell_type": "code",
   "execution_count": 1,
   "metadata": {},
   "outputs": [],
   "source": [
    "import sys\n",
    "import os\n",
    "\n",
    "sys.path.append(os.path.abspath(\"..\"))  "
   ]
  },
  {
   "cell_type": "code",
   "execution_count": 2,
   "metadata": {},
   "outputs": [],
   "source": [
    "import cirq\n",
    "from qudit_cirq.circuit_builder import create_circuit\n",
    "from qudit_cirq.utils import format_out, printVector, tensor_product\n",
    "from qudit_cirq.qudit import quditXGate, quditZGate, quditHGate, quditCNOTGate, state_vector"
   ]
  },
  {
   "cell_type": "code",
   "execution_count": 3,
   "metadata": {},
   "outputs": [],
   "source": [
    "d =4 # dimensions"
   ]
  },
  {
   "cell_type": "code",
   "execution_count": 4,
   "metadata": {},
   "outputs": [
    {
     "name": "stdout",
     "output_type": "stream",
     "text": [
      "Circuit:\n",
      "                          ┌──────────────────┐\n",
      "qudit1 (d=2): ───H(d=2)────┬─────────────────────\n",
      "                           │\n",
      "qudit2 (d=3): ───X(d=3)────┼────────┬────────────\n",
      "                           │        │\n",
      "qudit3 (d=2): ─────────────CNOT(d=2)┼────────────\n",
      "                                    │\n",
      "qudit4 (d=3): ──────────────────────CNOT(d=3)────\n",
      "                          └──────────────────┘\n"
     ]
    }
   ],
   "source": [
    "circuit, qudits, qudit_order = create_circuit(\n",
    "    (2, quditHGate, \"qudit1\"),                      \n",
    "    (3, quditXGate, \"qudit2\"),                      \n",
    "    (2, quditCNOTGate, [\"qudit1\", \"qudit3\"]),       \n",
    "    (3, quditCNOTGate, [\"qudit2\", \"qudit4\"])        \n",
    ")\n",
    "\n",
    "print(\"Circuit:\")\n",
    "print(circuit.to_text_diagram(qubit_order=qudit_order))"
   ]
  },
  {
   "cell_type": "code",
   "execution_count": 5,
   "metadata": {},
   "outputs": [],
   "source": [
    "d = 3"
   ]
  },
  {
   "cell_type": "code",
   "execution_count": 6,
   "metadata": {},
   "outputs": [],
   "source": [
    "state_qudit1 = state_vector(d, 0)  # Initializes |0⟩ for qudit1\n",
    "state_qudit2 = state_vector(d, 0)  # Initializes |1⟩ for qudit2"
   ]
  },
  {
   "cell_type": "code",
   "execution_count": 7,
   "metadata": {},
   "outputs": [
    {
     "data": {
      "text/plain": [
       "array([1.+0.j, 0.+0.j, 0.+0.j])"
      ]
     },
     "execution_count": 7,
     "metadata": {},
     "output_type": "execute_result"
    }
   ],
   "source": [
    "state_qudit1"
   ]
  },
  {
   "cell_type": "code",
   "execution_count": 8,
   "metadata": {},
   "outputs": [
    {
     "data": {
      "text/plain": [
       "array([1.+0.j, 0.+0.j, 0.+0.j])"
      ]
     },
     "execution_count": 8,
     "metadata": {},
     "output_type": "execute_result"
    }
   ],
   "source": [
    "state_qudit2"
   ]
  },
  {
   "cell_type": "code",
   "execution_count": 9,
   "metadata": {},
   "outputs": [],
   "source": [
    "initial_state = tensor_product(state_qudit1, state_qudit2)"
   ]
  },
  {
   "cell_type": "code",
   "execution_count": 10,
   "metadata": {},
   "outputs": [
    {
     "data": {
      "text/plain": [
       "array([1.+0.j, 0.+0.j, 0.+0.j, 0.+0.j, 0.+0.j, 0.+0.j, 0.+0.j, 0.+0.j,\n",
       "       0.+0.j])"
      ]
     },
     "execution_count": 10,
     "metadata": {},
     "output_type": "execute_result"
    }
   ],
   "source": [
    "initial_state"
   ]
  },
  {
   "cell_type": "code",
   "execution_count": 11,
   "metadata": {},
   "outputs": [
    {
     "name": "stdout",
     "output_type": "stream",
     "text": [
      "Circuit:\n",
      "qudit1 (d=3): ───H(d=3)───┬───────────\n",
      "                          │\n",
      "qudit2 (d=3): ────────────CNOT(d=3)───\n"
     ]
    }
   ],
   "source": [
    "# Build the circuit\n",
    "circuit, qudits, qudit_order = create_circuit(\n",
    "    d,  \n",
    "    (quditHGate, \"qudit1\"),                   \n",
    "    (quditCNOTGate, [\"qudit1\", \"qudit2\"])      \n",
    ")\n",
    "\n",
    "print(\"Circuit:\")\n",
    "print(circuit)"
   ]
  },
  {
   "cell_type": "code",
   "execution_count": 12,
   "metadata": {},
   "outputs": [],
   "source": [
    "simulator = cirq.Simulator()"
   ]
  },
  {
   "cell_type": "code",
   "execution_count": 13,
   "metadata": {},
   "outputs": [
    {
     "name": "stdout",
     "output_type": "stream",
     "text": [
      "Final state vector:\n",
      "[['0.6' '0.0' '0.0' '0.0' '0.6' '0.0' '0.0' '0.0' '0.6']]\n"
     ]
    }
   ],
   "source": [
    "result = simulator.simulate(circuit, initial_state=initial_state)\n",
    "final_state = result.final_state_vector\n",
    "dimensions = [qudit.dimension for qudit in qudit_order]\n",
    "print(\"Final state vector:\")\n",
    "print(format_out(result.final_state_vector))"
   ]
  },
  {
   "cell_type": "code",
   "execution_count": 14,
   "metadata": {},
   "outputs": [
    {
     "name": "stdout",
     "output_type": "stream",
     "text": [
      "\n",
      "Final state vector:\n",
      "|00⟩: (0.5773502588272095+0j)\n",
      "|11⟩: (0.5773502588272095+0j)\n",
      "|22⟩: (0.5773502588272095+0j)\n"
     ]
    }
   ],
   "source": [
    "printVector(final_state, dimensions, qudits=qudit_order)"
   ]
  },
  {
   "cell_type": "code",
   "execution_count": 15,
   "metadata": {},
   "outputs": [
    {
     "name": "stdout",
     "output_type": "stream",
     "text": [
      "control (d=3): ───┬───────────\n",
      "                  │\n",
      "target (d=3): ────CNOT(d=3)───\n"
     ]
    }
   ],
   "source": [
    "d = 3\n",
    "\n",
    "\n",
    "control_qudit = cirq.NamedQid(\"control\", dimension=d)\n",
    "target_qudit = cirq.NamedQid(\"target\", dimension=d)\n",
    "\n",
    "\n",
    "cnot_gate = quditCNOTGate(d)\n",
    "unitary_matrix = cnot_gate._unitary_()\n",
    "\n",
    "circuit = cirq.Circuit()\n",
    "circuit.append(cnot_gate(control_qudit, target_qudit))\n",
    "\n",
    "print(circuit)"
   ]
  },
  {
   "cell_type": "code",
   "execution_count": 16,
   "metadata": {},
   "outputs": [
    {
     "name": "stdout",
     "output_type": "stream",
     "text": [
      " Unitary matrix for the CNOT gate (d=3):\n",
      " [['1.0' '0.0' '0.0' '0.0' '0.0' '0.0' '0.0' '0.0' '0.0']\n",
      " ['0.0' '1.0' '0.0' '0.0' '0.0' '0.0' '0.0' '0.0' '0.0']\n",
      " ['0.0' '0.0' '1.0' '0.0' '0.0' '0.0' '0.0' '0.0' '0.0']\n",
      " ['0.0' '0.0' '0.0' '0.0' '1.0' '0.0' '0.0' '0.0' '0.0']\n",
      " ['0.0' '0.0' '0.0' '0.0' '0.0' '1.0' '0.0' '0.0' '0.0']\n",
      " ['0.0' '0.0' '0.0' '1.0' '0.0' '0.0' '0.0' '0.0' '0.0']\n",
      " ['0.0' '0.0' '0.0' '0.0' '0.0' '0.0' '0.0' '0.0' '1.0']\n",
      " ['0.0' '0.0' '0.0' '0.0' '0.0' '0.0' '1.0' '0.0' '0.0']\n",
      " ['0.0' '0.0' '0.0' '0.0' '0.0' '0.0' '0.0' '1.0' '0.0']]\n"
     ]
    }
   ],
   "source": [
    "#print(\"Unitary matrix (X) (d={}):\\n\".format(d), unitary_matrix)\n",
    "formatted_matrix = format_out(unitary_matrix)\n",
    "print(\" Unitary matrix for the CNOT gate (d={}):\\n\".format(d), formatted_matrix.T)"
   ]
  }
 ],
 "metadata": {
  "kernelspec": {
   "display_name": "Python 3",
   "language": "python",
   "name": "python3"
  },
  "language_info": {
   "codemirror_mode": {
    "name": "ipython",
    "version": 3
   },
   "file_extension": ".py",
   "mimetype": "text/x-python",
   "name": "python",
   "nbconvert_exporter": "python",
   "pygments_lexer": "ipython3",
   "version": "3.12.1"
  }
 },
 "nbformat": 4,
 "nbformat_minor": 2
}
