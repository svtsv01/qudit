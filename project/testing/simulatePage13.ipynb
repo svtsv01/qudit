{
 "cells": [
  {
   "cell_type": "markdown",
   "metadata": {},
   "source": [
    "## This is the simulation of the circuit on page 12"
   ]
  },
  {
   "cell_type": "code",
   "execution_count": 22,
   "metadata": {},
   "outputs": [],
   "source": [
    "import sys\n",
    "import os\n",
    "\n",
    "sys.path.append(os.path.abspath(\"..\"))  "
   ]
  },
  {
   "cell_type": "code",
   "execution_count": 23,
   "metadata": {},
   "outputs": [],
   "source": [
    "import cirq\n",
    "from qudit_cirq.circuit_builder import create_circuit\n",
    "from qudit_cirq.utils import format_out, printVector, tensor_product\n",
    "from qudit_cirq.qudit import quditXGate, quditZGate, quditHGate, quditCNOTGate, state_vector, qudit_measure"
   ]
  },
  {
   "cell_type": "markdown",
   "metadata": {},
   "source": [
    "#### Description of the algorithm:\n",
    "\n",
    "\n",
    "\n",
    "- Prepare the Generalized GHZ State (ψ₀): This is a multi-qudit entangled state, initialized for n clients.\n",
    "- Teleportation Using a Generalized Bell State (|β⟩): The server teleports each qudit in ψ₀ to the clients.\n",
    "- Client Actions:\n",
    "Each client runs an LDP (Local Differential Privacy) Algorithm.\n",
    "Applies a generalized Z gate based on the output of the LDP Algorithm.\n",
    "Applies a generalized Hadamard (H) gate.\n",
    "- Measurement: Each client measures their qudit in the computational basis.\n",
    "Server Aggregation: The server collects the measurement results, computes a de-biased sum, and applies the formula provided.\n",
    "\n"
   ]
  },
  {
   "cell_type": "code",
   "execution_count": 50,
   "metadata": {},
   "outputs": [],
   "source": [
    "import cirq\n",
    "import numpy as np\n",
    "from typing import List"
   ]
  },
  {
   "cell_type": "code",
   "execution_count": null,
   "metadata": {},
   "outputs": [],
   "source": [
    "d = 3  # Dimension for qudits\n",
    "n = 3  # Number of clients\n",
    "kappa = 3  # Parameter of Algorithm 1\n",
    "gamma = 0.5  # Probability parameter for the LDP algorithm"
   ]
  },
  {
   "cell_type": "code",
   "execution_count": 52,
   "metadata": {},
   "outputs": [],
   "source": [
    "def prepare_ghz_state(circuit, qudits, d):\n",
    "    # Apply generalized Hadamard (using quditHGate) on the first qudit\n",
    "    circuit.append(quditHGate(d).on(qudits[0]))\n",
    "    \n",
    "    # Entangle the qudits to create a GHZ state\n",
    "    for i in range(1, len(qudits)):\n",
    "        circuit.append(quditCNOTGate(d).on(qudits[i - 1], qudits[i]))  # Apply generalized CNOT\n"
   ]
  },
  {
   "cell_type": "code",
   "execution_count": 53,
   "metadata": {},
   "outputs": [],
   "source": [
    "def ldp_algorithm(x, kappa, gamma):\n",
    "    if np.random.rand() < gamma:\n",
    "        return np.random.randint(0, kappa) \n",
    "    else:\n",
    "        return x"
   ]
  },
  {
   "cell_type": "code",
   "execution_count": 54,
   "metadata": {},
   "outputs": [],
   "source": [
    "qudits = [cirq.LineQid(i, dimension=d) for i in range(n)]\n",
    "circuit = cirq.Circuit()"
   ]
  },
  {
   "cell_type": "code",
   "execution_count": 55,
   "metadata": {},
   "outputs": [],
   "source": [
    "prepare_ghz_state(circuit, qudits, d)"
   ]
  },
  {
   "cell_type": "code",
   "execution_count": 56,
   "metadata": {},
   "outputs": [],
   "source": [
    "class quditZGate(cirq.Gate):\n",
    "    def __init__(self, d, exponent=1):\n",
    "        super(quditZGate, self).__init__()\n",
    "        self.d = d\n",
    "        self.exponent = exponent\n",
    "\n",
    "    def _qid_shape_(self):\n",
    "        return (self.d,)\n",
    "\n",
    "    def _unitary_(self):\n",
    "        z_matrix = np.diag([np.exp(2j * np.pi * j * self.exponent / self.d) for j in range(self.d)])\n",
    "        return z_matrix\n",
    "\n",
    "    def _circuit_diagram_info_(self, args):\n",
    "        return f\"Z(d={self.d})^{self.exponent}\"\n",
    "\n",
    "    def with_exponent(self, exponent):\n",
    "        return quditZGate(self.d, exponent)"
   ]
  },
  {
   "cell_type": "code",
   "execution_count": 57,
   "metadata": {},
   "outputs": [],
   "source": [
    "for i in range(n):\n",
    "    x_i = np.random.randint(0, d) \n",
    "    y_i = ldp_algorithm(x_i, kappa, gamma)\n",
    "    \n",
    "    z_gate_yi = quditZGate(d).with_exponent(y_i)\n",
    "    circuit.append(z_gate_yi.on(qudits[i]))\n",
    "    \n",
    "    circuit.append(quditHGate(d).on(qudits[i]))\n",
    "    \n",
    "    circuit.append(qudit_measure(qudits[i], key=f'm_qudit{i}'))"
   ]
  },
  {
   "cell_type": "code",
   "execution_count": 58,
   "metadata": {},
   "outputs": [],
   "source": [
    "simulator = cirq.Simulator()\n",
    "result = simulator.run(circuit, repetitions=10)"
   ]
  },
  {
   "cell_type": "code",
   "execution_count": 59,
   "metadata": {},
   "outputs": [],
   "source": [
    "z_values = [result.measurements[f'm_qudit{i}'][0][0] for i in range(n)]\n",
    "z_sum = sum(z_values) % d\n",
    "z_debiased = (z_sum - gamma * (kappa - 1) * n / 2) / (1 - gamma)"
   ]
  },
  {
   "cell_type": "code",
   "execution_count": 60,
   "metadata": {},
   "outputs": [
    {
     "name": "stdout",
     "output_type": "stream",
     "text": [
      "Circuit:\n",
      "0 (d=3): ───H(d=3)───C───Z(d=3)^1───H(d=3)─────M('m_qudit0')───────────────────\n",
      "                     │\n",
      "1 (d=3): ────────────X───C──────────Z(d=3)^1───H(d=3)──────────M('m_qudit1')───\n",
      "                         │\n",
      "2 (d=3): ────────────────X──────────Z(d=3)^2───H(d=3)──────────M('m_qudit2')───\n"
     ]
    }
   ],
   "source": [
    "print(\"Circuit:\")\n",
    "print(circuit)"
   ]
  },
  {
   "cell_type": "code",
   "execution_count": 61,
   "metadata": {},
   "outputs": [
    {
     "name": "stdout",
     "output_type": "stream",
     "text": [
      "\n",
      "Measurement results (z values): [1, 0, 0]\n",
      "De-biased sum: -1.0\n"
     ]
    }
   ],
   "source": [
    "print(\"\\nMeasurement results (z values):\", z_values)\n",
    "print(\"De-biased sum:\", z_debiased)"
   ]
  },
  {
   "cell_type": "code",
   "execution_count": null,
   "metadata": {},
   "outputs": [],
   "source": []
  }
 ],
 "metadata": {
  "kernelspec": {
   "display_name": "base",
   "language": "python",
   "name": "python3"
  },
  "language_info": {
   "codemirror_mode": {
    "name": "ipython",
    "version": 3
   },
   "file_extension": ".py",
   "mimetype": "text/x-python",
   "name": "python",
   "nbconvert_exporter": "python",
   "pygments_lexer": "ipython3",
   "version": "3.12.4"
  }
 },
 "nbformat": 4,
 "nbformat_minor": 2
}
