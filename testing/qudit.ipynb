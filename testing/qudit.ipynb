{
 "cells": [
  {
   "cell_type": "markdown",
   "metadata": {},
   "source": [
    "## This is the first version of the qudit implementation"
   ]
  },
  {
   "cell_type": "code",
   "execution_count": null,
   "metadata": {},
   "outputs": [],
   "source": [
    "try:\n",
    "    import cirq\n",
    "except ImportError:\n",
    "    print(\"installing cirq...\")\n",
    "    !pip install --quiet cirq\n",
    "    print(\"installed cirq.\")"
   ]
  },
  {
   "cell_type": "code",
   "execution_count": null,
   "metadata": {},
   "outputs": [],
   "source": [
    "#import\n",
    "import cirq\n",
    "import numpy as np"
   ]
  },
  {
   "cell_type": "markdown",
   "metadata": {},
   "source": [
    "#### X-gate implementation"
   ]
  },
  {
   "cell_type": "code",
   "execution_count": null,
   "metadata": {},
   "outputs": [],
   "source": [
    "class quditXGate(cirq.Gate):\n",
    "    def __init__(self, d):\n",
    "        super(quditXGate, self)\n",
    "        self.d = d \n",
    "\n",
    "    def _qid_shape_(self):\n",
    "        return (self.d,)  \n",
    "\n",
    "    def _unitary_(self):\n",
    "        x_matrix = np.zeros((self.d, self.d), dtype=complex)\n",
    "        for i in range(self.d):\n",
    "            x_matrix[i][(i + 1) % self.d] = 1\n",
    "        return x_matrix\n",
    "\n",
    "    def _circuit_diagram_info_(self, args):\n",
    "        return f\"X(d={self.d})\""
   ]
  },
  {
   "cell_type": "markdown",
   "metadata": {},
   "source": [
    "#### Z-gate implementation"
   ]
  },
  {
   "cell_type": "code",
   "execution_count": null,
   "metadata": {},
   "outputs": [],
   "source": [
    "class quditZGate(cirq.Gate):\n",
    "\n",
    "    def __init__(self, d):\n",
    "        super(quditZGate, self)\n",
    "        self.d = d \n",
    "\n",
    "    def _qid_shape_(self):\n",
    "        return (self.d,)  \n",
    "\n",
    "    def _unitary_(self):\n",
    "        z_matrix = np.zeros((self.d, self.d), dtype=complex)\n",
    "        for i in range(self.d):\n",
    "            z_matrix[i][i] = np.exp(2j * np.pi * i / self.d)\n",
    "        return z_matrix\n",
    "\n",
    "    def _circuit_diagram_info_(self, args):\n",
    "        return f\"Z(d={self.d})\""
   ]
  },
  {
   "cell_type": "markdown",
   "metadata": {},
   "source": [
    "#### H-gate implementation"
   ]
  },
  {
   "cell_type": "code",
   "execution_count": null,
   "metadata": {},
   "outputs": [],
   "source": [
    "class QuditHGate(cirq.Gate):\n",
    "    def __init__(self, d):\n",
    "        super(QuditHGate, self)\n",
    "        self.d = d \n",
    "\n",
    "    def _qid_shape_(self):\n",
    "        return (self.d,) \n",
    "\n",
    "    def _unitary_(self):\n",
    "        h_matrix = np.zeros((self.d, self.d), dtype=complex)\n",
    "        omega = np.exp(2j * np.pi / self.d)  \n",
    "        for i in range(self.d):\n",
    "            for j in range(self.d):\n",
    "                h_matrix[i, j] = omega ** (i * j) / np.sqrt(self.d) \n",
    "        return h_matrix\n",
    "\n",
    "    def _circuit_diagram_info_(self, args):\n",
    "        return f\"H(d={self.d})\""
   ]
  },
  {
   "cell_type": "markdown",
   "metadata": {},
   "source": [
    "#### Function that creates a circuit"
   ]
  },
  {
   "cell_type": "code",
   "execution_count": null,
   "metadata": {},
   "outputs": [],
   "source": [
    "def format_out(matrix, output_type='float'):\n",
    "\n",
    "    def format_element(elem):\n",
    "        if np.isclose(elem.imag, 0):\n",
    "            real_part = elem.real\n",
    "            if output_type == 'float':\n",
    "                return f\"{real_part:.1f}\"\n",
    "            elif output_type == 'int':\n",
    "                return f\"{int(round(real_part))}\"\n",
    "            elif output_type == 'str':\n",
    "                return str(real_part)\n",
    "        return str(elem)\n",
    "\n",
    "    if matrix.ndim == 1:\n",
    "        matrix = matrix[np.newaxis, :]\n",
    "\n",
    "    formatted_matrix = np.array([[format_element(elem) for elem in row] for row in matrix])\n",
    "    return formatted_matrix"
   ]
  },
  {
   "cell_type": "markdown",
   "metadata": {},
   "source": [
    "#### Formating the output"
   ]
  },
  {
   "cell_type": "code",
   "execution_count": null,
   "metadata": {},
   "outputs": [],
   "source": [
    "def format_out(matrix, output_type='float'):\n",
    "\n",
    "    def format_element(elem):\n",
    "        if np.isclose(elem.imag, 0): \n",
    "            real_part = elem.real\n",
    "            if output_type == 'float':\n",
    "                return f\"{real_part:.1f}\" \n",
    "            elif output_type == 'int':\n",
    "                return f\"{int(round(real_part))}\" \n",
    "            elif output_type == 'str':\n",
    "                return str(real_part) \n",
    "        return str(elem)\n",
    "        \n",
    "    if matrix.ndim == 1:\n",
    "        matrix = matrix[np.newaxis, :] \n",
    "\n",
    "    formatted_matrix = np.array([[format_element(elem) for elem in row] for row in matrix])\n",
    "    return formatted_matrix"
   ]
  },
  {
   "cell_type": "code",
   "execution_count": null,
   "metadata": {},
   "outputs": [],
   "source": [
    "d = 3 # numbers of dimensions "
   ]
  },
  {
   "cell_type": "code",
   "execution_count": null,
   "metadata": {},
   "outputs": [],
   "source": [
    "qudit_circuit = create_circuit((d,quditXGate)) # creation of the circuit  "
   ]
  },
  {
   "cell_type": "code",
   "execution_count": null,
   "metadata": {},
   "outputs": [],
   "source": [
    "qudit_circuit"
   ]
  },
  {
   "cell_type": "code",
   "execution_count": null,
   "metadata": {},
   "outputs": [],
   "source": [
    "simulator = cirq.Simulator()\n",
    "result = simulator.simulate(qudit_circuit)\n",
    "\n",
    "print(\"Final vector for (d={}):\\n\".format(d), (result.final_state_vector))\n",
    "print(\"Final vector for (d={}):\\n\".format(d), format_out(result.final_state_vector))"
   ]
  },
  {
   "cell_type": "code",
   "execution_count": null,
   "metadata": {},
   "outputs": [],
   "source": [
    "x_gate = quditXGate(d)\n",
    "unitary_matrix = x_gate._unitary_()\n",
    "print(\"Unitary matrix (X) (d={}):\\n\".format(d), unitary_matrix)"
   ]
  },
  {
   "cell_type": "code",
   "execution_count": null,
   "metadata": {},
   "outputs": [],
   "source": [
    "z_gate = quditZGate(d)\n",
    "unitary_matrix = z_gate._unitary_()\n",
    "formatted_matrix = format_out(unitary_matrix)\n",
    "print(\"Unitary matrix for the Z gate (d={}):\\n\".format(d), formatted_matrix)"
   ]
  }
 ],
 "metadata": {
  "kernelspec": {
   "display_name": "base",
   "language": "python",
   "name": "python3"
  },
  "language_info": {
   "codemirror_mode": {
    "name": "ipython",
    "version": 3
   },
   "file_extension": ".py",
   "mimetype": "text/x-python",
   "name": "python",
   "nbconvert_exporter": "python",
   "pygments_lexer": "ipython3",
   "version": "3.12.4"
  }
 },
 "nbformat": 4,
 "nbformat_minor": 2
}
