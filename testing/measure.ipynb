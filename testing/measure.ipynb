{
 "cells": [
  {
   "cell_type": "code",
   "execution_count": 1,
   "metadata": {},
   "outputs": [],
   "source": [
    "import sys\n",
    "import os\n",
    "\n",
    "\n",
    "sys.path.append(os.path.abspath(\"../project\"))  "
   ]
  },
  {
   "cell_type": "code",
   "execution_count": 15,
   "metadata": {},
   "outputs": [],
   "source": [
    "import cirq\n",
    "from qudit_cirq.circuit_builder import create_circuit\n",
    "from qudit_cirq.utils import format_out, printVector, tensor_product, add_measurements\n",
    "from qudit_cirq.qudit import quditXGate, quditZGate, quditHGate, quditCNOTGate, state_vector\n",
    "import numpy as np"
   ]
  },
  {
   "cell_type": "code",
   "execution_count": 16,
   "metadata": {},
   "outputs": [],
   "source": [
    "d = 3"
   ]
  },
  {
   "cell_type": "code",
   "execution_count": 27,
   "metadata": {},
   "outputs": [],
   "source": [
    "circuit, qudits, qudit_order = create_circuit(\n",
    "    d,\n",
    "    (quditHGate, 'q0'),    \n",
    "    (quditXGate, 'q0'),    \n",
    "    (quditZGate, 'q0'),    \n",
    "    (quditCNOTGate, ['q0', 'q1'])  \n",
    ")"
   ]
  },
  {
   "cell_type": "code",
   "execution_count": 28,
   "metadata": {},
   "outputs": [
    {
     "data": {
      "text/html": [
       "<pre style=\"overflow: auto; white-space: pre;\">q0 (d=3): ───H(d=3)───X(d=3)───Z(d=3)───┬───────────\n",
       "                                        │\n",
       "q1 (d=3): ──────────────────────────────CNOT(d=3)───</pre>"
      ],
      "text/plain": [
       "q0 (d=3): ───H(d=3)───X(d=3)───Z(d=3)───┬───────────\n",
       "                                        │\n",
       "q1 (d=3): ──────────────────────────────CNOT(d=3)───"
      ]
     },
     "execution_count": 28,
     "metadata": {},
     "output_type": "execute_result"
    }
   ],
   "source": [
    "circuit"
   ]
  },
  {
   "cell_type": "code",
   "execution_count": 29,
   "metadata": {},
   "outputs": [],
   "source": [
    "add_measurements(circuit, qudit_order)"
   ]
  },
  {
   "cell_type": "code",
   "execution_count": 30,
   "metadata": {},
   "outputs": [
    {
     "data": {
      "text/html": [
       "<pre style=\"overflow: auto; white-space: pre;\">q0 (d=3): ───H(d=3)───X(d=3)───Z(d=3)───┬───────────M(&#x27;meas_q0&#x27;)───\n",
       "                                        │\n",
       "q1 (d=3): ──────────────────────────────CNOT(d=3)───M(&#x27;meas_q1&#x27;)───</pre>"
      ],
      "text/plain": [
       "q0 (d=3): ───H(d=3)───X(d=3)───Z(d=3)───┬───────────M('meas_q0')───\n",
       "                                        │\n",
       "q1 (d=3): ──────────────────────────────CNOT(d=3)───M('meas_q1')───"
      ]
     },
     "execution_count": 30,
     "metadata": {},
     "output_type": "execute_result"
    }
   ],
   "source": [
    "circuit"
   ]
  },
  {
   "cell_type": "code",
   "execution_count": 31,
   "metadata": {},
   "outputs": [],
   "source": [
    "simulator = cirq.Simulator()\n",
    "result = simulator.run(circuit, repetitions=165)"
   ]
  },
  {
   "cell_type": "code",
   "execution_count": 32,
   "metadata": {},
   "outputs": [
    {
     "name": "stdout",
     "output_type": "stream",
     "text": [
      "\n",
      "Measurement results for q0:\n",
      "State |0>: 0.05\n",
      "State |1>: 0.12\n",
      "\n",
      "Measurement results for q1:\n",
      "State |0>: 0.05\n",
      "State |1>: 0.12\n"
     ]
    }
   ],
   "source": [
    "for qudit in qudit_order:\n",
    "    key = f\"meas_{qudit.name}\"\n",
    "    hist = result.histogram(key=key)\n",
    "    print(f\"\\nMeasurement results for {qudit.name}:\")\n",
    "    for outcome, count in sorted(hist.items()):\n",
    "        probability = count / 1000\n",
    "        print(f\"State |{outcome}>: {probability:.2f}\")"
   ]
  },
  {
   "cell_type": "code",
   "execution_count": 84,
   "metadata": {},
   "outputs": [],
   "source": [
    "d = 3 "
   ]
  },
  {
   "cell_type": "code",
   "execution_count": 85,
   "metadata": {},
   "outputs": [],
   "source": [
    "qudit0 = cirq.NamedQid('q0', dimension=d)  \n",
    "qudit1 = cirq.NamedQid('q1', dimension=d)  \n",
    "qudit2 = cirq.NamedQid('q2', dimension=d) \n",
    "qudit_order = [qudit0, qudit1, qudit2]\n",
    "\n",
    "circuit = cirq.Circuit()"
   ]
  },
  {
   "cell_type": "code",
   "execution_count": 86,
   "metadata": {},
   "outputs": [],
   "source": [
    "initial_state_q0 = np.array([0, 1, 0], dtype=complex)"
   ]
  },
  {
   "cell_type": "code",
   "execution_count": 87,
   "metadata": {},
   "outputs": [],
   "source": [
    "initial_state = np.kron(\n",
    "    np.kron(initial_state_q0, [1, 0, 0]), \n",
    "    [1, 0, 0]              \n",
    ")"
   ]
  },
  {
   "cell_type": "code",
   "execution_count": 88,
   "metadata": {},
   "outputs": [],
   "source": [
    "circuit.append([\n",
    "    quditHGate(d)(qudit1),\n",
    "    quditCNOTGate(d)(qudit1, qudit2)\n",
    "])\n",
    "\n",
    "\n",
    "circuit.append([\n",
    "    quditCNOTGate(d)(qudit0, qudit1),\n",
    "    quditHGate(d)(qudit0)\n",
    "])\n",
    "\n",
    "\n",
    "circuit.append([\n",
    "    cirq.measure(qudit0, key='m0'),\n",
    "    cirq.measure(qudit1, key='m1')\n",
    "])"
   ]
  },
  {
   "cell_type": "code",
   "execution_count": 89,
   "metadata": {},
   "outputs": [
    {
     "name": "stdout",
     "output_type": "stream",
     "text": [
      "Teleportation Circuit:\n",
      "q0 (d=3): ────────────────────────┬───────────H(d=3)────M('m0')───\n",
      "                                  │\n",
      "q1 (d=3): ───H(d=3)───┬───────────CNOT(d=3)───M('m1')─────────────\n",
      "                      │\n",
      "q2 (d=3): ────────────CNOT(d=3)───────────────────────────────────\n"
     ]
    }
   ],
   "source": [
    "print(\"Teleportation Circuit:\")\n",
    "print(circuit)"
   ]
  },
  {
   "cell_type": "code",
   "execution_count": 90,
   "metadata": {},
   "outputs": [
    {
     "data": {
      "text/plain": [
       "array([0.+0.j, 0.+0.j, 0.+0.j, 0.+0.j, 0.+0.j, 0.+0.j, 0.+0.j, 0.+0.j,\n",
       "       0.+0.j, 1.+0.j, 0.+0.j, 0.+0.j, 0.+0.j, 0.+0.j, 0.+0.j, 0.+0.j,\n",
       "       0.+0.j, 0.+0.j, 0.+0.j, 0.+0.j, 0.+0.j, 0.+0.j, 0.+0.j, 0.+0.j,\n",
       "       0.+0.j, 0.+0.j, 0.+0.j])"
      ]
     },
     "execution_count": 90,
     "metadata": {},
     "output_type": "execute_result"
    }
   ],
   "source": [
    "initial_state"
   ]
  },
  {
   "cell_type": "code",
   "execution_count": 96,
   "metadata": {},
   "outputs": [],
   "source": [
    "simulator = cirq.Simulator()\n",
    "result = simulator.simulate(circuit, initial_state=initial_state)"
   ]
  },
  {
   "cell_type": "code",
   "execution_count": 97,
   "metadata": {},
   "outputs": [
    {
     "name": "stdout",
     "output_type": "stream",
     "text": [
      "\n",
      "Alice's measurement results: m0 = 0, m1 = 2\n"
     ]
    }
   ],
   "source": [
    "m0 = int(result.measurements['m0'].item())\n",
    "m1 = int(result.measurements['m1'].item())\n",
    "print(f\"\\nAlice's measurement results: m0 = {m0}, m1 = {m1}\")"
   ]
  },
  {
   "cell_type": "code",
   "execution_count": 98,
   "metadata": {},
   "outputs": [],
   "source": [
    "corrected_state_vector = result.final_state_vector\n",
    "\n",
    "final_state = corrected_state_vector.reshape((d, d, d))\n",
    "\n",
    "state_qudit2 = np.sum(np.sum(final_state, axis=0), axis=0)\n",
    "\n",
    "state_qudit2 = state_qudit2 / np.linalg.norm(state_qudit2)"
   ]
  },
  {
   "cell_type": "code",
   "execution_count": 99,
   "metadata": {},
   "outputs": [
    {
     "data": {
      "text/plain": [
       "array([0.+0.j, 1.+0.j, 0.+0.j], dtype=complex64)"
      ]
     },
     "execution_count": 99,
     "metadata": {},
     "output_type": "execute_result"
    }
   ],
   "source": [
    "state_qudit2"
   ]
  },
  {
   "cell_type": "code",
   "execution_count": 100,
   "metadata": {},
   "outputs": [
    {
     "name": "stdout",
     "output_type": "stream",
     "text": [
      "\n",
      "Initial state of qudit0:\n",
      "|0>: amplitude = 0j\n",
      "|1>: amplitude = (1+0j)\n",
      "|2>: amplitude = 0j\n",
      "\n",
      "Teleportation successful: The state of qudit2 matches the initial state of qudit0.\n"
     ]
    }
   ],
   "source": [
    "print(\"\\nInitial state of qudit0:\")\n",
    "for i in range(d):\n",
    "    amplitude = initial_state_q0[i]\n",
    "    print(f\"|{i}>: amplitude = {amplitude}\")\n",
    "\n",
    "if np.allclose(state_qudit2, initial_state_q0):\n",
    "    print(\"\\nTeleportation successful: The state of qudit2 matches the initial state of qudit0.\")\n",
    "else:\n",
    "    print(\"\\nTeleportation failed: The state of qudit2 does not match the initial state of qudit0.\")"
   ]
  }
 ],
 "metadata": {
  "kernelspec": {
   "display_name": "base",
   "language": "python",
   "name": "python3"
  },
  "language_info": {
   "codemirror_mode": {
    "name": "ipython",
    "version": 3
   },
   "file_extension": ".py",
   "mimetype": "text/x-python",
   "name": "python",
   "nbconvert_exporter": "python",
   "pygments_lexer": "ipython3",
   "version": "3.12.4"
  }
 },
 "nbformat": 4,
 "nbformat_minor": 2
}
