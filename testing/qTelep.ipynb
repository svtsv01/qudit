{
 "cells": [
  {
   "cell_type": "code",
   "execution_count": 1,
   "metadata": {},
   "outputs": [],
   "source": [
    "import sys\n",
    "import os\n",
    "\n",
    "sys.path.append(os.path.abspath(\"../project/qudit_cirq\"))  "
   ]
  },
  {
   "cell_type": "code",
   "execution_count": 6,
   "metadata": {},
   "outputs": [],
   "source": [
    "import cirq\n",
    "import random\n",
    "from qudit_cirq.circuit_builder import create_circuit\n",
    "from qudit_cirq.qudit import quditXGate, quditZGate, quditHGate, quditCNOTGate, state_vector, measure_qudits\n",
    "from qudit_cirq.utils import format_out, printVector, tensor_product"
   ]
  },
  {
   "cell_type": "code",
   "execution_count": 7,
   "metadata": {},
   "outputs": [],
   "source": [
    "d = 3"
   ]
  },
  {
   "cell_type": "code",
   "execution_count": 8,
   "metadata": {},
   "outputs": [],
   "source": [
    "q_A = 'q_A'  # telep\n",
    "q_B = 'q_B'  # Alice\n",
    "q_C = 'q_C'  # Bob"
   ]
  },
  {
   "cell_type": "code",
   "execution_count": 10,
   "metadata": {},
   "outputs": [],
   "source": [
    "circuit_args = [\n",
    "d,  \n",
    "(quditHGate, q_B),               \n",
    "(quditCNOTGate, [q_B, q_C]),     \n",
    "(quditXGate, q_A),           \n",
    "(quditHGate, q_A),              \n",
    "(quditCNOTGate, [q_A, q_B]),     \n",
    "]"
   ]
  },
  {
   "cell_type": "code",
   "execution_count": 11,
   "metadata": {},
   "outputs": [],
   "source": [
    "circuit, qudits, qudit_order = create_circuit(*circuit_args)"
   ]
  },
  {
   "cell_type": "code",
   "execution_count": 12,
   "metadata": {},
   "outputs": [
    {
     "data": {
      "text/html": [
       "<pre style=\"overflow: auto; white-space: pre;\">q_A (d=3): ───X^1(d=3)───H(d=3)───C(d=3)───\n",
       "                                  │\n",
       "q_B (d=3): ───H(d=3)─────C(d=3)───X(d=3)───\n",
       "                         │\n",
       "q_C (d=3): ──────────────X(d=3)────────────</pre>"
      ],
      "text/plain": [
       "q_A (d=3): ───X^1(d=3)───H(d=3)───C(d=3)───\n",
       "                                  │\n",
       "q_B (d=3): ───H(d=3)─────C(d=3)───X(d=3)───\n",
       "                         │\n",
       "q_C (d=3): ──────────────X(d=3)────────────"
      ]
     },
     "execution_count": 12,
     "metadata": {},
     "output_type": "execute_result"
    }
   ],
   "source": [
    "circuit"
   ]
  },
  {
   "cell_type": "code",
   "execution_count": 8,
   "metadata": {},
   "outputs": [],
   "source": [
    "circuit_args = [\n",
    "d,  \n",
    "(quditHGate, q_B),               \n",
    "(quditCNOTGate, [q_B, q_C]),     \n",
    "(quditXGate, q_A),           \n",
    "(quditHGate, q_A),              \n",
    "(quditCNOTGate, [q_A, q_B])]\n",
    "\n",
    "circuit, qudits, qudit_order = create_circuit(*circuit_args)"
   ]
  },
  {
   "cell_type": "code",
   "execution_count": 9,
   "metadata": {},
   "outputs": [
    {
     "data": {
      "text/html": [
       "<pre style=\"overflow: auto; white-space: pre;\">q_A (d=3): ───X(d=3)───H(d=3)──────┬───────────\n",
       "                                   │\n",
       "q_B (d=3): ───H(d=3)───┬───────────CNOT(d=3)───\n",
       "                       │\n",
       "q_C (d=3): ────────────CNOT(d=3)───────────────</pre>"
      ],
      "text/plain": [
       "q_A (d=3): ───X(d=3)───H(d=3)──────┬───────────\n",
       "                                   │\n",
       "q_B (d=3): ───H(d=3)───┬───────────CNOT(d=3)───\n",
       "                       │\n",
       "q_C (d=3): ────────────CNOT(d=3)───────────────"
      ]
     },
     "execution_count": 9,
     "metadata": {},
     "output_type": "execute_result"
    }
   ],
   "source": [
    "circuit"
   ]
  },
  {
   "cell_type": "code",
   "execution_count": 10,
   "metadata": {},
   "outputs": [],
   "source": [
    "simulator = cirq.Simulator()\n",
    "result = simulator.simulate(circuit)"
   ]
  },
  {
   "cell_type": "code",
   "execution_count": 11,
   "metadata": {},
   "outputs": [
    {
     "name": "stdout",
     "output_type": "stream",
     "text": [
      "[ 0.3333333 +0.j          0.        +0.j          0.        +0.j\n",
      "  0.        +0.j          0.3333333 +0.j          0.        +0.j\n",
      "  0.        +0.j          0.        +0.j          0.3333333 +0.j\n",
      "  0.        +0.j          0.        +0.j         -0.16666666+0.28867513j\n",
      " -0.16666666+0.28867513j  0.        +0.j          0.        +0.j\n",
      "  0.        +0.j         -0.16666666+0.28867513j  0.        +0.j\n",
      "  0.        +0.j         -0.16666666-0.28867513j  0.        +0.j\n",
      "  0.        +0.j          0.        +0.j         -0.16666666-0.28867513j\n",
      " -0.16666666-0.28867513j  0.        +0.j          0.        +0.j        ]\n"
     ]
    }
   ],
   "source": [
    "print(result.final_state_vector)"
   ]
  },
  {
   "cell_type": "code",
   "execution_count": 24,
   "metadata": {},
   "outputs": [],
   "source": [
    "measurements = measure_qudits(result.final_state_vector, qudit_order)"
   ]
  },
  {
   "cell_type": "code",
   "execution_count": 25,
   "metadata": {},
   "outputs": [
    {
     "name": "stdout",
     "output_type": "stream",
     "text": [
      "Measurements results:\n",
      "q_A: 2\n",
      "q_C: 1\n",
      "q_B: 2\n"
     ]
    }
   ],
   "source": [
    "print(\"Measurements results:\")\n",
    "for qudit_name, outcome in measurements.items():\n",
    "    print(f\"{qudit_name}: {outcome}\")"
   ]
  },
  {
   "cell_type": "code",
   "execution_count": null,
   "metadata": {},
   "outputs": [],
   "source": []
  }
 ],
 "metadata": {
  "kernelspec": {
   "display_name": "base",
   "language": "python",
   "name": "python3"
  },
  "language_info": {
   "codemirror_mode": {
    "name": "ipython",
    "version": 3
   },
   "file_extension": ".py",
   "mimetype": "text/x-python",
   "name": "python",
   "nbconvert_exporter": "python",
   "pygments_lexer": "ipython3",
   "version": "3.12.4"
  }
 },
 "nbformat": 4,
 "nbformat_minor": 2
}
