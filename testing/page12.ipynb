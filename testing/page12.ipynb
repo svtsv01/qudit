{
 "cells": [
  {
   "cell_type": "markdown",
   "metadata": {},
   "source": [
    "## This is the simulation of the circuit on page 12"
   ]
  },
  {
   "cell_type": "code",
   "execution_count": 4,
   "metadata": {},
   "outputs": [],
   "source": [
    "import sys\n",
    "import os\n",
    "\n",
    "sys.path.append(os.path.abspath(\"../project/qudit_cirq\"))  "
   ]
  },
  {
   "cell_type": "markdown",
   "metadata": {},
   "source": [
    "#### Description of the algorithm:\n",
    "\n",
    "\n",
    "\n",
    "- Prepare the Generalized GHZ State (ψ₀): This is a multi-qudit entangled state, initialized for n clients.\n",
    "- Teleportation Using a Generalized Bell State (|β⟩): The server teleports each qudit in ψ₀ to the clients.\n",
    "- Client Actions:\n",
    "Each client runs an LDP (Local Differential Privacy) Algorithm.\n",
    "Applies a generalized Z gate based on the output of the LDP Algorithm.\n",
    "Applies a generalized Hadamard (H) gate.\n",
    "- Measurement: Each client measures their qudit in the computational basis.\n",
    "Server Aggregation: The server collects the measurement results, computes a de-biased sum, and applies the formula provided.\n"
   ]
  },
  {
   "cell_type": "code",
   "execution_count": 5,
   "metadata": {},
   "outputs": [],
   "source": [
    "import cirq\n",
    "import numpy as np "
   ]
  },
  {
   "cell_type": "code",
   "execution_count": 6,
   "metadata": {},
   "outputs": [
    {
     "ename": "ModuleNotFoundError",
     "evalue": "No module named 'qudit_cirq'",
     "output_type": "error",
     "traceback": [
      "\u001b[1;31m---------------------------------------------------------------------------\u001b[0m",
      "\u001b[1;31mModuleNotFoundError\u001b[0m                       Traceback (most recent call last)",
      "Cell \u001b[1;32mIn[6], line 1\u001b[0m\n\u001b[1;32m----> 1\u001b[0m \u001b[38;5;28;01mfrom\u001b[39;00m \u001b[38;5;21;01mqudit_cirq\u001b[39;00m\u001b[38;5;21;01m.\u001b[39;00m\u001b[38;5;21;01mqudit\u001b[39;00m \u001b[38;5;28;01mimport\u001b[39;00m quditXGate, quditZGate, quditHGate, quditCNOTGate, state_vector, measure_qudits\n",
      "\u001b[1;31mModuleNotFoundError\u001b[0m: No module named 'qudit_cirq'"
     ]
    }
   ],
   "source": [
    "from qudit_cirq.qudit import quditXGate, quditZGate, quditHGate, quditCNOTGate, state_vector, measure_qudits"
   ]
  },
  {
   "cell_type": "code",
   "execution_count": 24,
   "metadata": {},
   "outputs": [],
   "source": [
    "def choose_d(n, kappa):\n",
    "    return int(np.ceil((kappa - 1) * n)) + 1  "
   ]
  },
  {
   "cell_type": "code",
   "execution_count": 25,
   "metadata": {},
   "outputs": [
    {
     "name": "stdout",
     "output_type": "stream",
     "text": [
      "Chosen d: 5\n"
     ]
    }
   ],
   "source": [
    "# Parameters\n",
    "n_clients = 4  \n",
    "kappa = 2  \n",
    "\n",
    "d = choose_d(n_clients, kappa)\n",
    "print(f\"Chosen d: {d}\")\n",
    "\n",
    "gamma = kappa / (kappa - 1 + np.exp(1)) \n",
    "inputs = [1, 2, 3, 4] \n",
    "\n",
    "simulator = cirq.Simulator()"
   ]
  },
  {
   "cell_type": "code",
   "execution_count": 26,
   "metadata": {},
   "outputs": [],
   "source": [
    "def prepare_qudit_ghz_state(n_clients, d):\n",
    "    \"\"\"Prepares a generalized GHZ state with n_clients qudits of dimension d.\"\"\"\n",
    "    qudits = [cirq.LineQid(i, dimension=d) for i in range(n_clients)]\n",
    "    circuit = cirq.Circuit()\n",
    "    circuit.append(quditHGate(d).on(qudits[0]))  # Apply qudit Hadamard gate\n",
    "    for i in range(1, n_clients):\n",
    "        # Use your custom qudit CNOT gate\n",
    "        control_qudit = qudits[i - 1]\n",
    "        target_qudit = qudits[i]\n",
    "        circuit.append(quditCNOTGate(d).on(control_qudit, target_qudit))\n",
    "    return circuit, qudits\n"
   ]
  },
  {
   "cell_type": "code",
   "execution_count": 27,
   "metadata": {},
   "outputs": [],
   "source": [
    "def teleportation_circuit(target_qudit, server_qudit, client_qudit, d):\n",
    "    \"\"\"Constructs the teleportation circuit for qudits.\"\"\"\n",
    "    circuit = cirq.Circuit()\n",
    "    # Create the generalized Bell state between server and client\n",
    "    circuit.append(quditHGate(d).on(server_qudit)) \n",
    "    circuit.append(quditCNOTGate(d).on(server_qudit, client_qudit)) \n",
    "    # Perform the Bell measurement between target qudit and server qudit\n",
    "    circuit.append(quditCNOTGate(d).on(target_qudit, server_qudit))\n",
    "    circuit.append(quditHGate(d).on(target_qudit))  \n",
    "    circuit.append(cirq.measure(target_qudit, key=f\"ell_{target_qudit.x}\")) \n",
    "    circuit.append(cirq.measure(server_qudit, key=f\"s_{server_qudit.x}\"))  \n",
    "    return circuit"
   ]
  },
  {
   "cell_type": "code",
   "execution_count": 28,
   "metadata": {},
   "outputs": [],
   "source": [
    "def apply_teleportation_corrections(client_qudit, measurements, target_qudit_x, server_qudit_x, d):\n",
    "    \"\"\"Applies corrections based on teleportation measurements.\"\"\"\n",
    "    circuit = cirq.Circuit()\n",
    "    s_key = f\"s_{server_qudit_x}\"\n",
    "    ell_key = f\"ell_{target_qudit_x}\"\n",
    "    s = int(measurements[s_key][0])  \n",
    "    ell = int(measurements[ell_key][0]) \n",
    "    if s != 0:\n",
    "        circuit.append((quditXGate(d) ** s).on(client_qudit))\n",
    "    if ell != 0:\n",
    "        circuit.append((quditZGate(d) ** ell).on(client_qudit))\n",
    "    return circuit\n"
   ]
  },
  {
   "cell_type": "code",
   "execution_count": 29,
   "metadata": {},
   "outputs": [],
   "source": [
    "def apply_local_operations(client_qudit, input_value, d):\n",
    "    \"\"\"Applies Z^{y_i} and Hadamard gate on the client's qudit.\"\"\"\n",
    "    circuit = cirq.Circuit()\n",
    "    circuit.append((quditZGate(d) ** input_value).on(client_qudit))  # Z^{y_i}\n",
    "    circuit.append(quditHGate(d).on(client_qudit))\n",
    "    measurement_key = f\"client_{client_qudit.x}\"\n",
    "    circuit.append(cirq.measure(client_qudit, key=measurement_key))\n",
    "    return circuit"
   ]
  },
  {
   "cell_type": "code",
   "execution_count": 30,
   "metadata": {},
   "outputs": [],
   "source": [
    "def server_debias_and_aggregate(measurements, gamma, kappa, n_clients, d):\n",
    "    \"\"\"Debiases and aggregates the measurements as per the protocol.\"\"\"\n",
    "    z = (-sum(measurements)) % d \n",
    "    unbiased_sum = (z - gamma * (kappa - 1) * n_clients / 2) / (1 - gamma)\n",
    "    return unbiased_sum"
   ]
  },
  {
   "cell_type": "code",
   "execution_count": 31,
   "metadata": {},
   "outputs": [
    {
     "name": "stdout",
     "output_type": "stream",
     "text": [
      "0 (d=5): ───H(d=5)───C(d=5)─────────────────────\n",
      "                     │\n",
      "1 (d=5): ────────────X(d=5)───C(d=5)────────────\n",
      "                              │\n",
      "2 (d=5): ─────────────────────X(d=5)───C(d=5)───\n",
      "                                       │\n",
      "3 (d=5): ──────────────────────────────X(d=5)───\n"
     ]
    }
   ],
   "source": [
    "# Prepare GHZ state\n",
    "ghz_circuit, ghz_qudits = prepare_qudit_ghz_state(n_clients, d)\n",
    "print(ghz_circuit)"
   ]
  },
  {
   "cell_type": "code",
   "execution_count": 32,
   "metadata": {},
   "outputs": [],
   "source": [
    "# Prepare teleportation circuits\n",
    "client_qudits = []\n",
    "teleport_circuits = []\n",
    "for i in range(n_clients):\n",
    "    server_qudit = cirq.LineQid(n_clients + i * 2, dimension=d)\n",
    "    client_qudit = cirq.LineQid(n_clients + i * 2 + 1, dimension=d)\n",
    "    client_qudits.append(client_qudit)\n",
    "    \n",
    "    # Generate teleportation circuit\n",
    "    teleport_circuit = teleportation_circuit(\n",
    "        target_qudit=ghz_qudits[i],\n",
    "        server_qudit=server_qudit,\n",
    "        client_qudit=client_qudit,\n",
    "        d=d\n",
    "    )\n",
    "    teleport_circuits.append(teleport_circuit)"
   ]
  },
  {
   "cell_type": "code",
   "execution_count": 33,
   "metadata": {},
   "outputs": [
    {
     "name": "stdout",
     "output_type": "stream",
     "text": [
      "0 (d=5): ────H(d=5)───C(d=5)───────────────────────────────────────C(d=5)───H(d=5)─────M('ell_0')─────────────────────────────────────────────────────────────────────────────────────────────────────────────────────────────────────────────────────────────\n",
      "                      │                                            │\n",
      "1 (d=5): ─────────────X(d=5)───C(d=5)──────────────────────────────┼──────────────────────────────────────────────────C(d=5)───H(d=5)─────M('ell_1')──────────────────────────────────────────────────────────────────────────────────────────────────────────\n",
      "                               │                                   │                                                  │\n",
      "2 (d=5): ──────────────────────X(d=5)───C(d=5)─────────────────────┼──────────────────────────────────────────────────┼──────────────────────────────────────────────────C(d=5)───H(d=5)─────M('ell_2')───────────────────────────────────────────────────────\n",
      "                                        │                          │                                                  │                                                  │\n",
      "3 (d=5): ───────────────────────────────X(d=5)─────────────────────┼──────────────────────────────────────────────────┼──────────────────────────────────────────────────┼──────────────────────────────────────────────────C(d=5)───H(d=5)──────M('ell_3')───\n",
      "                                                                   │                                                  │                                                  │                                                  │\n",
      "4 (d=5): ────────────────────────────────────────H(d=5)───C(d=5)───X(d=5)───M('s_4')──────────────────────────────────┼──────────────────────────────────────────────────┼──────────────────────────────────────────────────┼─────────────────────────────────\n",
      "                                                          │                                                           │                                                  │                                                  │\n",
      "5 (d=5): ─────────────────────────────────────────────────X(d=5)──────────────────────────────────────────────────────┼──────────────────────────────────────────────────┼──────────────────────────────────────────────────┼─────────────────────────────────\n",
      "                                                                                                                      │                                                  │                                                  │\n",
      "6 (d=5): ───────────────────────────────────────────────────────────────────────────────────────────H(d=5)───C(d=5)───X(d=5)───M('s_6')──────────────────────────────────┼──────────────────────────────────────────────────┼─────────────────────────────────\n",
      "                                                                                                             │                                                           │                                                  │\n",
      "7 (d=5): ────────────────────────────────────────────────────────────────────────────────────────────────────X(d=5)──────────────────────────────────────────────────────┼──────────────────────────────────────────────────┼─────────────────────────────────\n",
      "                                                                                                                                                                         │                                                  │\n",
      "8 (d=5): ──────────────────────────────────────────────────────────────────────────────────────────────────────────────────────────────────────────────H(d=5)───C(d=5)───X(d=5)───M('s_8')──────────────────────────────────┼─────────────────────────────────\n",
      "                                                                                                                                                                │                                                           │\n",
      "9 (d=5): ───────────────────────────────────────────────────────────────────────────────────────────────────────────────────────────────────────────────────────X(d=5)──────────────────────────────────────────────────────┼─────────────────────────────────\n",
      "                                                                                                                                                                                                                            │\n",
      "10 (d=5): ────────────────────────────────────────────────────────────────────────────────────────────────────────────────────────────────────────────────────────────────────────────────────────────────H(d=5)───C(d=5)───X(d=5)───M('s_10')────────────────\n",
      "                                                                                                                                                                                                                   │\n",
      "11 (d=5): ─────────────────────────────────────────────────────────────────────────────────────────────────────────────────────────────────────────────────────────────────────────────────────────────────────────X(d=5)─────────────────────────────────────\n"
     ]
    }
   ],
   "source": [
    "# Combine all circuits\n",
    "total_circuit = cirq.Circuit()\n",
    "total_circuit += ghz_circuit\n",
    "\n",
    "for i in range(n_clients):\n",
    "    total_circuit += teleport_circuits[i]\n",
    "    \n",
    "print(total_circuit)"
   ]
  },
  {
   "cell_type": "code",
   "execution_count": 34,
   "metadata": {},
   "outputs": [],
   "source": [
    "partial_result = simulator.run(total_circuit)"
   ]
  },
  {
   "cell_type": "code",
   "execution_count": 35,
   "metadata": {},
   "outputs": [
    {
     "name": "stderr",
     "output_type": "stream",
     "text": [
      "C:\\Users\\svtsv\\AppData\\Local\\Temp\\ipykernel_40460\\266554841.py:6: DeprecationWarning: Conversion of an array with ndim > 0 to a scalar is deprecated, and will error in future. Ensure you extract a single element from your array before performing this operation. (Deprecated NumPy 1.25.)\n",
      "  s = int(measurements[s_key][0])\n",
      "C:\\Users\\svtsv\\AppData\\Local\\Temp\\ipykernel_40460\\266554841.py:7: DeprecationWarning: Conversion of an array with ndim > 0 to a scalar is deprecated, and will error in future. Ensure you extract a single element from your array before performing this operation. (Deprecated NumPy 1.25.)\n",
      "  ell = int(measurements[ell_key][0])\n"
     ]
    }
   ],
   "source": [
    "# Apply corrections based on measurements\n",
    "for i in range(n_clients):\n",
    "    server_qudit = cirq.LineQid(n_clients + i * 2, dimension=d)\n",
    "    target_qudit = ghz_qudits[i]\n",
    "    correction_circuit = apply_teleportation_corrections(\n",
    "        client_qudit=client_qudits[i],\n",
    "        measurements=partial_result.measurements,\n",
    "        target_qudit_x=target_qudit.x,\n",
    "        server_qudit_x=server_qudit.x,\n",
    "        d=d\n",
    "    )\n",
    "    total_circuit += correction_circuit"
   ]
  },
  {
   "cell_type": "code",
   "execution_count": 36,
   "metadata": {},
   "outputs": [],
   "source": [
    "# Apply local operations for each client\n",
    "for i, input_value in enumerate(inputs):\n",
    "    client_qudit = client_qudits[i]\n",
    "    local_circuit = apply_local_operations(client_qudit, input_value, d)\n",
    "    total_circuit += local_circuit"
   ]
  },
  {
   "cell_type": "code",
   "execution_count": 37,
   "metadata": {},
   "outputs": [],
   "source": [
    "# Simulate the entire protocol\n",
    "final_result = simulator.run(total_circuit)"
   ]
  },
  {
   "cell_type": "code",
   "execution_count": 38,
   "metadata": {},
   "outputs": [
    {
     "name": "stdout",
     "output_type": "stream",
     "text": [
      "Measurement for Client 1: 3\n",
      "Measurement for Client 2: 2\n",
      "Measurement for Client 3: 1\n",
      "Measurement for Client 4: 2\n",
      "\n",
      "Client Measurements: [3, 2, 1, 2]\n"
     ]
    },
    {
     "name": "stderr",
     "output_type": "stream",
     "text": [
      "C:\\Users\\svtsv\\AppData\\Local\\Temp\\ipykernel_40460\\2544195267.py:6: DeprecationWarning: Conversion of an array with ndim > 0 to a scalar is deprecated, and will error in future. Ensure you extract a single element from your array before performing this operation. (Deprecated NumPy 1.25.)\n",
      "  measurement = int(final_result.measurements[measurement_key][0])\n"
     ]
    }
   ],
   "source": [
    "# Extract measurements\n",
    "client_measurements = []\n",
    "for i in range(n_clients):\n",
    "    client_qudit = client_qudits[i]\n",
    "    measurement_key = f\"client_{client_qudit.x}\"\n",
    "    measurement = int(final_result.measurements[measurement_key][0])\n",
    "    client_measurements.append(measurement)\n",
    "    print(f\"Measurement for Client {i+1}: {measurement}\")\n",
    "\n",
    "print(\"\\nClient Measurements:\", client_measurements)"
   ]
  },
  {
   "cell_type": "code",
   "execution_count": 39,
   "metadata": {},
   "outputs": [
    {
     "name": "stdout",
     "output_type": "stream",
     "text": [
      "\n",
      "Aggregated and Debiased Result at Server: 2.0\n"
     ]
    }
   ],
   "source": [
    "# Perform aggregation\n",
    "aggregated_result = server_debias_and_aggregate(client_measurements, gamma, kappa, n_clients, d)\n",
    "print(\"\\nAggregated and Debiased Result at Server:\", aggregated_result)"
   ]
  }
 ],
 "metadata": {
  "kernelspec": {
   "display_name": "base",
   "language": "python",
   "name": "python3"
  },
  "language_info": {
   "codemirror_mode": {
    "name": "ipython",
    "version": 3
   },
   "file_extension": ".py",
   "mimetype": "text/x-python",
   "name": "python",
   "nbconvert_exporter": "python",
   "pygments_lexer": "ipython3",
   "version": "3.12.4"
  }
 },
 "nbformat": 4,
 "nbformat_minor": 2
}
