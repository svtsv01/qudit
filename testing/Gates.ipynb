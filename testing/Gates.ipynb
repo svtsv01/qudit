{
 "cells": [
  {
   "cell_type": "markdown",
   "metadata": {},
   "source": [
    "# Qudit Gates Usage Example\n",
    "\n",
    "This notebook demonstrates how to use the qudit gates (X, Z, H, CNOT, and measurement) from your custom library to build and analyze circuits. We will:\n",
    "\n",
    "1. Define a set of qudits of a specified dimension.\n",
    "2. Apply various gates (X, Z, H, and CNOT).\n",
    "3. Print out the circuits and visualize their unitary representations for small dimension cases.\n",
    "4. Show how to measure the qudits at the end of a circuit.\n"
   ]
  },
  {
   "cell_type": "code",
   "execution_count": 15,
   "metadata": {},
   "outputs": [],
   "source": [
    "import sys\n",
    "import os\n",
    "\n",
    "sys.path.append(os.path.abspath(\"../project\")) "
   ]
  },
  {
   "cell_type": "code",
   "execution_count": 16,
   "metadata": {},
   "outputs": [],
   "source": [
    "import cirq\n",
    "import numpy as np\n",
    "import matplotlib.pyplot as plt"
   ]
  },
  {
   "cell_type": "markdown",
   "metadata": {},
   "source": [
    "## Example Usage\n",
    "\n",
    "### Set parameters\n",
    "\n",
    "Let's choose a dimension `d`, and the number of qudits `n`.\n"
   ]
  },
  {
   "cell_type": "code",
   "execution_count": 17,
   "metadata": {},
   "outputs": [],
   "source": [
    "from qudit_cirq.circuit_builder import create_circuit\n",
    "from qudit_cirq.qudit import quditXGate, quditZGate, quditHGate, quditCNOTGate, state_vector, qudit_measure\n",
    "from qudit_cirq.utils import format_out, printVector, tensor_product"
   ]
  },
  {
   "cell_type": "code",
   "execution_count": 18,
   "metadata": {},
   "outputs": [],
   "source": [
    "d = 3  # For example, qutrits\n",
    "n = 2  # Two qutrits\n",
    "\n",
    "qudits = [cirq.LineQid(i, dimension=d) for i in range(n)]"
   ]
  },
  {
   "cell_type": "markdown",
   "metadata": {},
   "source": [
    "### Build a Simple Circuit\n",
    "\n",
    "1. Apply a Z gate with exponent 2 on the first qudit.\n",
    "2. Apply an X gate with exponent 1 on the second qudit.\n",
    "3. Apply an H gate on the first qudit.\n",
    "4. Apply a CNOT gate between the first (control) and second (target) qudits.\n",
    "5. Measure both qudits at the end.\n"
   ]
  },
  {
   "cell_type": "code",
   "execution_count": 21,
   "metadata": {},
   "outputs": [
    {
     "name": "stdout",
     "output_type": "stream",
     "text": [
      "Circuit:\n",
      "0 (d=3): ───Z^1(d=3)───H(d=3)───C(d=3)───M('m0')───\n",
      "                                │\n",
      "1 (d=3): ───X^1(d=3)────────────X(d=3)───M('m1')───\n"
     ]
    }
   ],
   "source": [
    "circuit = cirq.Circuit()\n",
    "\n",
    "# Apply Z^2 on qudit 0\n",
    "circuit.append(quditZGate(d)(qudits[0]))\n",
    "\n",
    "# Apply X^1 on qudit 1\n",
    "circuit.append(quditXGate(d)(qudits[1]))\n",
    "\n",
    "# Apply H on qudit 0\n",
    "circuit.append(quditHGate(d)(qudits[0]))\n",
    "\n",
    "# Apply CNOT (control=qudit0, target=qudit1)\n",
    "cnot = quditCNOTGate(d)\n",
    "circuit.append(cnot(qudits[0], qudits[1]))\n",
    "\n",
    "# Measure both\n",
    "circuit.append(qudit_measure(qudits[0], key='m0'))\n",
    "circuit.append(qudit_measure(qudits[1], key='m1'))\n",
    "\n",
    "print(\"Circuit:\")\n",
    "print(circuit)\n",
    "\n"
   ]
  },
  {
   "cell_type": "markdown",
   "metadata": {},
   "source": [
    "### Analyse the Circuit\n",
    "\n",
    "We can look at the unitary of smaller sub-gates or even the entire circuit (for small dimension and qubit count), but be aware that the entire circuit unitary quickly becomes large.\n",
    "\n",
    "Below, we print the unitary for the CNOT gate at dimension d.\n"
   ]
  },
  {
   "cell_type": "code",
   "execution_count": 22,
   "metadata": {},
   "outputs": [
    {
     "name": "stdout",
     "output_type": "stream",
     "text": [
      "CNOT unitary:\n",
      "[[1.+0.j 0.+0.j 0.+0.j 0.+0.j 0.+0.j 0.+0.j 0.+0.j 0.+0.j 0.+0.j]\n",
      " [0.+0.j 1.+0.j 0.+0.j 0.+0.j 0.+0.j 0.+0.j 0.+0.j 0.+0.j 0.+0.j]\n",
      " [0.+0.j 0.+0.j 1.+0.j 0.+0.j 0.+0.j 0.+0.j 0.+0.j 0.+0.j 0.+0.j]\n",
      " [0.+0.j 0.+0.j 0.+0.j 0.+0.j 1.+0.j 0.+0.j 0.+0.j 0.+0.j 0.+0.j]\n",
      " [0.+0.j 0.+0.j 0.+0.j 0.+0.j 0.+0.j 1.+0.j 0.+0.j 0.+0.j 0.+0.j]\n",
      " [0.+0.j 0.+0.j 0.+0.j 1.+0.j 0.+0.j 0.+0.j 0.+0.j 0.+0.j 0.+0.j]\n",
      " [0.+0.j 0.+0.j 0.+0.j 0.+0.j 0.+0.j 0.+0.j 0.+0.j 0.+0.j 1.+0.j]\n",
      " [0.+0.j 0.+0.j 0.+0.j 0.+0.j 0.+0.j 0.+0.j 1.+0.j 0.+0.j 0.+0.j]\n",
      " [0.+0.j 0.+0.j 0.+0.j 0.+0.j 0.+0.j 0.+0.j 0.+0.j 1.+0.j 0.+0.j]]\n"
     ]
    }
   ],
   "source": [
    "cnot_unitary = cirq.unitary(cnot)\n",
    "print(\"CNOT unitary:\")\n",
    "print(cnot_unitary)"
   ]
  },
  {
   "cell_type": "markdown",
   "metadata": {},
   "source": [
    "### Simulation \n",
    "\n",
    "For small circuits, we can simulate the circuit using `cirq.Simulator()`\n"
   ]
  },
  {
   "cell_type": "code",
   "execution_count": 24,
   "metadata": {},
   "outputs": [
    {
     "name": "stdout",
     "output_type": "stream",
     "text": [
      "Measurement results:\n",
      "m0=21002\n",
      "m1=20112\n"
     ]
    }
   ],
   "source": [
    "sim = cirq.Simulator()\n",
    "result = sim.run(circuit, repetitions=5)\n",
    "print(\"Measurement results:\")\n",
    "print(result)\n"
   ]
  }
 ],
 "metadata": {
  "kernelspec": {
   "display_name": "base",
   "language": "python",
   "name": "python3"
  },
  "language_info": {
   "codemirror_mode": {
    "name": "ipython",
    "version": 3
   },
   "file_extension": ".py",
   "mimetype": "text/x-python",
   "name": "python",
   "nbconvert_exporter": "python",
   "pygments_lexer": "ipython3",
   "version": "3.12.4"
  }
 },
 "nbformat": 4,
 "nbformat_minor": 2
}
